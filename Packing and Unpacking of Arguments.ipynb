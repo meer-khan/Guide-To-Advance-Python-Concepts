{
 "cells": [
  {
   "cell_type": "markdown",
   "id": "72e83d6c",
   "metadata": {},
   "source": [
    "# Explanation\n",
    "In Python, you have the powerful ability to either pack or unpack function arguments. Consider a function you want to write which is capable of handling unlimited arguments. OR Consider a function in which you want to pass 8 or 10 or maybe more parameters. What you think would be the better approach to write function signature as `def fun(a,b,c,d,e,f,g,i,j,k,l,m,n)` OR `def fun(*args)` ? \n",
    "\n",
    "Yeah the */*args* is a better and concise way to handle such big numbers of parameters.\n",
    "\n",
    "Consider one more example, Let's say you have a function that can accept 5 parameters. but you user can send some times 2, or 3 or 5 as well. How are you going to handle this in function signatures? \n",
    "Are you going to write like `def fun(a=None,b=None,c=None,d=None,e=None)` ? OR `def fun(*agrs)` mayebe `def fun(*kwargs)`? \n",
    "\n",
    "Yeah, approach that uses args and kwargs is concise and better right?\n",
    "\n",
    "What comes to your mind when you think of ‘packing arguments’? You got it right! It is simply ‘packing’ the arguments into a single variable (i.e., a tuple of all arguments) that a function call will receive.\n",
    "\n",
    "It means that the elements inside a function can individually be accessed in the same way as for tuple values, i.e., tuple[0], tuple[1] etc. Furthermore, it also helps us convert the tuple into a list that can be manipulated.\n",
    "\n",
    "In the past, Python developers commonly called this feature 'tuple unpacking' because it was initially associated with tuples. However, this functionality proved to be so versatile and popular that it was extended to work with various types of iterable data structures. As a result, it is now commonly referred to as 'iterable unpacking."
   ]
  },
  {
   "cell_type": "code",
   "execution_count": 1,
   "id": "1eaa0c1b",
   "metadata": {},
   "outputs": [
    {
     "data": {
      "text/plain": [
       "15"
      ]
     },
     "execution_count": 1,
     "metadata": {},
     "output_type": "execute_result"
    }
   ],
   "source": [
    "# Let's write a function that can accept 5 arguments using not recommended approach\n",
    "\n",
    "def fun(a,b,c,d,e):\n",
    "    return a+b+c+d+e\n",
    "\n",
    "fun(1,2,3,4,5)"
   ]
  },
  {
   "cell_type": "code",
   "execution_count": 9,
   "id": "2f0b6c4e",
   "metadata": {},
   "outputs": [
    {
     "name": "stdout",
     "output_type": "stream",
     "text": [
      "<class 'tuple'>\n",
      "(1, 2, 3, 4, 5)\n",
      "15\n"
     ]
    }
   ],
   "source": [
    "# Let's write it with recommended approach\n",
    "\n",
    "def fun(*args):\n",
    "    print(type(args)) # it stores all the give parameters in tuple and we can access it using indexes\n",
    "    print(args)\n",
    "    return sum(args)\n",
    "print(fun(1,2,3,4,5))"
   ]
  },
  {
   "cell_type": "code",
<<<<<<< HEAD
   "execution_count": 23,
   "id": "f26d4b91",
=======
   "execution_count": 3,
   "id": "cd0b3812",
>>>>>>> 48a60c39e6c018f2ad7e50d8d847ab869946a7de
   "metadata": {},
   "outputs": [
    {
     "name": "stdout",
     "output_type": "stream",
     "text": [
      "range(0,10) is:  range(0, 10)\n",
      "Type of range(0,10):  <class 'range'>\n",
      "Upack range(0,10):  [1, 2, 3, 4, 5, 6, 7, 8, 9]\n"
     ]
    }
   ],
   "source": [
    "# Let's explore range() function to which we are very familiar\n",
    "\n",
    "a = range(0,10)\n",
    "print(\"range(0,10) is: \",a)\n",
    "\n",
    "# range() gave us a range object, Let's check it's data type \n",
    "print(\"Type of range(0,10): \",type(a))\n",
    "\n",
    "# So, How we can unpack the values from the return of range() function\n",
    "\n",
    "unpack = [*range(1,10)]\n",
    "print(\"Upack range(0,10): \",unpack)\n",
    "\n",
    "# in Python 3, the range object behaves like a generator. It produces values on-the-fly as \n",
    "# they are needed,which can be more memory-efficient than creating a list of values up front.\n",
    "# You can iterate through a range object in a for loop or use it with functions that expect an iterable, \n",
    "# just like you would with a generator."
   ]
  },
  {
   "cell_type": "code",
<<<<<<< HEAD
   "execution_count": 24,
   "id": "de5c5428",
   "metadata": {},
=======
   "execution_count": 11,
   "id": "26647a5c",
   "metadata": {},
   "outputs": [
    {
     "name": "stdout",
     "output_type": "stream",
     "text": [
      "<class 'tuple'>\n",
      "(1, 2, 3, 4, 5)\n"
     ]
    },
    {
     "data": {
      "text/plain": [
       "15"
      ]
     },
     "execution_count": 11,
     "metadata": {},
     "output_type": "execute_result"
    }
   ],
   "source": [
    "# We can also pass values in list using unpacking operator *\n",
    "\n",
    "l1 = [1,2,3,4,5]\n",
    "\n",
    "fun(*l1)\n"
   ]
  },
  {
   "cell_type": "code",
   "execution_count": 21,
   "id": "f8d2dff9",
   "metadata": {
    "scrolled": true
   },
>>>>>>> 48a60c39e6c018f2ad7e50d8d847ab869946a7de
   "outputs": [
    {
     "ename": "TypeError",
     "evalue": "'range' object is not an iterator",
     "output_type": "error",
     "traceback": [
      "\u001b[1;31m---------------------------------------------------------------------------\u001b[0m",
      "\u001b[1;31mTypeError\u001b[0m                                 Traceback (most recent call last)",
      "\u001b[1;32m~\\AppData\\Local\\Temp\\ipykernel_40924\\2109903773.py\u001b[0m in \u001b[0;36m<module>\u001b[1;34m\u001b[0m\n\u001b[0;32m      5\u001b[0m \u001b[1;33m\u001b[0m\u001b[0m\n\u001b[0;32m      6\u001b[0m \u001b[1;31m# Use next() with a default value\u001b[0m\u001b[1;33m\u001b[0m\u001b[1;33m\u001b[0m\u001b[0m\n\u001b[1;32m----> 7\u001b[1;33m \u001b[0mvalue1\u001b[0m \u001b[1;33m=\u001b[0m \u001b[0mnext\u001b[0m\u001b[1;33m(\u001b[0m\u001b[0mmy_range\u001b[0m\u001b[1;33m,\u001b[0m \u001b[1;34m\"No more values\"\u001b[0m\u001b[1;33m)\u001b[0m\u001b[1;33m\u001b[0m\u001b[1;33m\u001b[0m\u001b[0m\n\u001b[0m\u001b[0;32m      8\u001b[0m \u001b[0mprint\u001b[0m\u001b[1;33m(\u001b[0m\u001b[0mvalue1\u001b[0m\u001b[1;33m)\u001b[0m  \u001b[1;31m# Output: 0\u001b[0m\u001b[1;33m\u001b[0m\u001b[1;33m\u001b[0m\u001b[0m\n\u001b[0;32m      9\u001b[0m \u001b[1;33m\u001b[0m\u001b[0m\n",
      "\u001b[1;31mTypeError\u001b[0m: 'range' object is not an iterator"
     ]
    }
   ],
   "source": [
    "# if range() function returns a generate object than definitely we can pass it to the next() function?\n",
    "\n",
    "# Let's try: \n",
    "my_range = range(3)\n",
    "\n",
    "# Use next() with a default value\n",
    "value1 = next(my_range, \"No more values\")\n",
    "print(value1)  # Output: 0\n",
    "\n",
    "value2 = next(my_range, \"No more values\")\n",
    "print(value2)  # Output: 1\n",
    "\n",
    "value3 = next(my_range, \"No more values\")\n",
    "print(value3)  # Output: 2\n",
    "try:\n",
    "    value4 = next(my_range, \"No more values\")\n",
    "    print(value4) # Output: \"No more values\"\n",
    "except:\n",
    "    print( \"No More Value\")"
   ]
  },
  {
   "cell_type": "markdown",
   "id": "13fa5854",
   "metadata": {},
   "source": [
    "### IMPORTANT NOTE: \n",
    "You can use any name as a variable instead of \"args\" , args and kwargs are just conventions to use. You are free to use any variable name following by * or **\n",
    "\n",
    "\n",
    "Applications and Important Points \n",
    "\n",
    "1. Used in socket programming to send a vast number of requests to a server.\n",
    "2. Used in the Django framework to send variable arguments to view functions.\n",
    "3. There are wrapper functions that require us to pass in variable arguments.\n",
    "4. Modification of arguments becomes easy, but at the same time validation is not proper, so they must be used with care."
   ]
  },
  {
   "cell_type": "code",
   "execution_count": 7,
   "id": "30fa91a7",
   "metadata": {},
   "outputs": [
    {
     "name": "stdout",
     "output_type": "stream",
     "text": [
      "{'Name': 'Meer', 'Age': 90, 'Profession': 'Computer Scientist'}\n"
     ]
    }
   ],
   "source": [
    "# Let's study, unpacking of keyword argument\n",
    "# We have studied the arguments that can be passed to the function and function will capture them in tuple \n",
    "# we can access the values from the indexes of tuple \n",
    "# NOW we will learn the about the parameters that are passed as keyword parameters \n",
    "\n",
    "def fun(**kwargs): \n",
    "    print(kwargs)\n",
    "    \n",
    "\n",
    "fun(Name=\"Meer\", Age=90, Profession= \"Computer Scientist\")\n",
    "\n",
    "# Keyword parameters will be unpacked by **"
   ]
  },
  {
   "cell_type": "code",
   "execution_count": null,
<<<<<<< HEAD
   "id": "27f6a9aa",
=======
   "id": "74fa47a4",
>>>>>>> 48a60c39e6c018f2ad7e50d8d847ab869946a7de
   "metadata": {},
   "outputs": [],
   "source": []
  }
 ],
 "metadata": {
  "kernelspec": {
   "display_name": "Python 3 (ipykernel)",
   "language": "python",
   "name": "python3"
  },
  "language_info": {
   "codemirror_mode": {
    "name": "ipython",
    "version": 3
   },
   "file_extension": ".py",
   "mimetype": "text/x-python",
   "name": "python",
   "nbconvert_exporter": "python",
   "pygments_lexer": "ipython3",
   "version": "3.11.4"
  }
 },
 "nbformat": 4,
 "nbformat_minor": 5
}
