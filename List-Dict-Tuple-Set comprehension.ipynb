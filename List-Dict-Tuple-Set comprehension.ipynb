{
 "cells": [
  {
   "cell_type": "markdown",
   "id": "aaa93633",
   "metadata": {},
   "source": [
    "# List-Dict-Tuple-Set Comprehension\n"
   ]
  },
  {
   "cell_type": "markdown",
   "id": "905922dd",
   "metadata": {},
   "source": [
    "## List comprehension\n",
    "\n",
    "\n",
    "**Description**: List comprehensions provide a concise way to create lists in Python. The basic structure of a list comprehension is `[expression for item in iterable if condition] `\n",
    "\n",
    "\n",
    "**Example**\n",
    "Let's say we have a list of integers and we want to perform an operation of taking square of each integer and store it into another list\n",
    "\n",
    "There are 2 ways of doing it:   \n",
    "1. Do it using for loop to iterate over each element of list_1 and store the square of each number in list_2   \n",
    "2. Use List comprehension to achieve this task  \n",
    "\n",
    "Let's first try it using a for loop"
   ]
  },
  {
   "cell_type": "code",
   "execution_count": 22,
   "id": "c53b49a8",
   "metadata": {},
   "outputs": [
    {
     "name": "stdout",
     "output_type": "stream",
     "text": [
      "Collecting jupyterthemes\n",
      "  Downloading jupyterthemes-0.20.0-py2.py3-none-any.whl (7.0 MB)\n",
      "     ---------------------------------------- 7.0/7.0 MB 2.4 MB/s eta 0:00:00\n",
      "Requirement already satisfied: matplotlib>=1.4.3 in c:\\users\\meer\\anaconda3\\lib\\site-packages (from jupyterthemes) (3.5.2)\n",
      "Requirement already satisfied: notebook>=5.6.0 in c:\\users\\meer\\anaconda3\\lib\\site-packages (from jupyterthemes) (6.4.12)\n",
      "Requirement already satisfied: jupyter-core in c:\\users\\meer\\anaconda3\\lib\\site-packages (from jupyterthemes) (5.2.0)\n",
      "Collecting lesscpy>=0.11.2\n",
      "  Downloading lesscpy-0.15.1-py2.py3-none-any.whl (46 kB)\n",
      "     ---------------------------------------- 46.7/46.7 kB 2.3 MB/s eta 0:00:00\n",
      "Requirement already satisfied: ipython>=5.4.1 in c:\\users\\meer\\anaconda3\\lib\\site-packages (from jupyterthemes) (7.31.1)\n",
      "Requirement already satisfied: prompt-toolkit!=3.0.0,!=3.0.1,<3.1.0,>=2.0.0 in c:\\users\\meer\\anaconda3\\lib\\site-packages (from ipython>=5.4.1->jupyterthemes) (3.0.36)\n",
      "Requirement already satisfied: pickleshare in c:\\users\\meer\\anaconda3\\lib\\site-packages (from ipython>=5.4.1->jupyterthemes) (0.7.5)\n",
      "Requirement already satisfied: traitlets>=4.2 in c:\\users\\meer\\anaconda3\\lib\\site-packages (from ipython>=5.4.1->jupyterthemes) (5.7.1)\n",
      "Requirement already satisfied: colorama in c:\\users\\meer\\anaconda3\\lib\\site-packages (from ipython>=5.4.1->jupyterthemes) (0.4.6)\n",
      "Requirement already satisfied: setuptools>=18.5 in c:\\users\\meer\\anaconda3\\lib\\site-packages (from ipython>=5.4.1->jupyterthemes) (65.6.3)\n",
      "Requirement already satisfied: jedi>=0.16 in c:\\users\\meer\\anaconda3\\lib\\site-packages (from ipython>=5.4.1->jupyterthemes) (0.18.1)\n",
      "Requirement already satisfied: pygments in c:\\users\\meer\\anaconda3\\lib\\site-packages (from ipython>=5.4.1->jupyterthemes) (2.11.2)\n",
      "Requirement already satisfied: backcall in c:\\users\\meer\\anaconda3\\lib\\site-packages (from ipython>=5.4.1->jupyterthemes) (0.2.0)\n",
      "Requirement already satisfied: matplotlib-inline in c:\\users\\meer\\anaconda3\\lib\\site-packages (from ipython>=5.4.1->jupyterthemes) (0.1.6)\n",
      "Requirement already satisfied: decorator in c:\\users\\meer\\anaconda3\\lib\\site-packages (from ipython>=5.4.1->jupyterthemes) (5.1.1)\n",
      "Requirement already satisfied: ply in c:\\users\\meer\\anaconda3\\lib\\site-packages (from lesscpy>=0.11.2->jupyterthemes) (3.11)\n",
      "Requirement already satisfied: packaging>=20.0 in c:\\users\\meer\\anaconda3\\lib\\site-packages (from matplotlib>=1.4.3->jupyterthemes) (23.0)\n",
      "Requirement already satisfied: pyparsing>=2.2.1 in c:\\users\\meer\\anaconda3\\lib\\site-packages (from matplotlib>=1.4.3->jupyterthemes) (3.0.9)\n",
      "Requirement already satisfied: python-dateutil>=2.7 in c:\\users\\meer\\anaconda3\\lib\\site-packages (from matplotlib>=1.4.3->jupyterthemes) (2.8.2)\n",
      "Requirement already satisfied: pillow>=6.2.0 in c:\\users\\meer\\anaconda3\\lib\\site-packages (from matplotlib>=1.4.3->jupyterthemes) (9.4.0)\n",
      "Requirement already satisfied: numpy>=1.17 in c:\\users\\meer\\anaconda3\\lib\\site-packages (from matplotlib>=1.4.3->jupyterthemes) (1.19.5)\n",
      "Requirement already satisfied: fonttools>=4.22.0 in c:\\users\\meer\\anaconda3\\lib\\site-packages (from matplotlib>=1.4.3->jupyterthemes) (4.25.0)\n",
      "Requirement already satisfied: cycler>=0.10 in c:\\users\\meer\\anaconda3\\lib\\site-packages (from matplotlib>=1.4.3->jupyterthemes) (0.11.0)\n",
      "Requirement already satisfied: kiwisolver>=1.0.1 in c:\\users\\meer\\anaconda3\\lib\\site-packages (from matplotlib>=1.4.3->jupyterthemes) (1.4.4)\n",
      "Requirement already satisfied: tornado>=6.1 in c:\\users\\meer\\anaconda3\\lib\\site-packages (from notebook>=5.6.0->jupyterthemes) (6.1)\n",
      "Requirement already satisfied: Send2Trash>=1.8.0 in c:\\users\\meer\\anaconda3\\lib\\site-packages (from notebook>=5.6.0->jupyterthemes) (1.8.0)\n",
      "Requirement already satisfied: jupyter-client>=5.3.4 in c:\\users\\meer\\anaconda3\\lib\\site-packages (from notebook>=5.6.0->jupyterthemes) (7.3.4)\n",
      "Requirement already satisfied: nbconvert>=5 in c:\\users\\meer\\anaconda3\\lib\\site-packages (from notebook>=5.6.0->jupyterthemes) (6.4.4)\n",
      "Requirement already satisfied: nest-asyncio>=1.5 in c:\\users\\meer\\anaconda3\\lib\\site-packages (from notebook>=5.6.0->jupyterthemes) (1.5.6)\n",
      "Requirement already satisfied: argon2-cffi in c:\\users\\meer\\anaconda3\\lib\\site-packages (from notebook>=5.6.0->jupyterthemes) (21.3.0)\n",
      "Requirement already satisfied: terminado>=0.8.3 in c:\\users\\meer\\anaconda3\\lib\\site-packages (from notebook>=5.6.0->jupyterthemes) (0.17.1)\n",
      "Requirement already satisfied: jinja2 in c:\\users\\meer\\anaconda3\\lib\\site-packages (from notebook>=5.6.0->jupyterthemes) (3.1.2)\n",
      "Requirement already satisfied: nbformat in c:\\users\\meer\\anaconda3\\lib\\site-packages (from notebook>=5.6.0->jupyterthemes) (5.7.0)\n",
      "Requirement already satisfied: prometheus-client in c:\\users\\meer\\anaconda3\\lib\\site-packages (from notebook>=5.6.0->jupyterthemes) (0.14.1)\n",
      "Requirement already satisfied: ipython-genutils in c:\\users\\meer\\anaconda3\\lib\\site-packages (from notebook>=5.6.0->jupyterthemes) (0.2.0)\n",
      "Requirement already satisfied: ipykernel in c:\\users\\meer\\anaconda3\\lib\\site-packages (from notebook>=5.6.0->jupyterthemes) (6.15.2)\n",
      "Requirement already satisfied: pyzmq>=17 in c:\\users\\meer\\anaconda3\\lib\\site-packages (from notebook>=5.6.0->jupyterthemes) (23.2.0)\n",
      "Requirement already satisfied: platformdirs>=2.5 in c:\\users\\meer\\anaconda3\\lib\\site-packages (from jupyter-core->jupyterthemes) (2.5.2)\n",
      "Requirement already satisfied: pywin32>=1.0 in c:\\users\\meer\\anaconda3\\lib\\site-packages (from jupyter-core->jupyterthemes) (305.1)\n",
      "Requirement already satisfied: parso<0.9.0,>=0.8.0 in c:\\users\\meer\\anaconda3\\lib\\site-packages (from jedi>=0.16->ipython>=5.4.1->jupyterthemes) (0.8.3)\n",
      "Requirement already satisfied: entrypoints in c:\\users\\meer\\anaconda3\\lib\\site-packages (from jupyter-client>=5.3.4->notebook>=5.6.0->jupyterthemes) (0.4)\n",
      "Requirement already satisfied: testpath in c:\\users\\meer\\anaconda3\\lib\\site-packages (from nbconvert>=5->notebook>=5.6.0->jupyterthemes) (0.6.0)\n",
      "Requirement already satisfied: bleach in c:\\users\\meer\\anaconda3\\lib\\site-packages (from nbconvert>=5->notebook>=5.6.0->jupyterthemes) (4.1.0)\n",
      "Requirement already satisfied: beautifulsoup4 in c:\\users\\meer\\anaconda3\\lib\\site-packages (from nbconvert>=5->notebook>=5.6.0->jupyterthemes) (4.11.1)\n",
      "Requirement already satisfied: mistune<2,>=0.8.1 in c:\\users\\meer\\anaconda3\\lib\\site-packages (from nbconvert>=5->notebook>=5.6.0->jupyterthemes) (0.8.4)\n",
      "Requirement already satisfied: nbclient<0.6.0,>=0.5.0 in c:\\users\\meer\\anaconda3\\lib\\site-packages (from nbconvert>=5->notebook>=5.6.0->jupyterthemes) (0.5.13)\n",
      "Requirement already satisfied: pandocfilters>=1.4.1 in c:\\users\\meer\\anaconda3\\lib\\site-packages (from nbconvert>=5->notebook>=5.6.0->jupyterthemes) (1.5.0)\n",
      "Requirement already satisfied: defusedxml in c:\\users\\meer\\anaconda3\\lib\\site-packages (from nbconvert>=5->notebook>=5.6.0->jupyterthemes) (0.7.1)\n",
      "Requirement already satisfied: jupyterlab-pygments in c:\\users\\meer\\anaconda3\\lib\\site-packages (from nbconvert>=5->notebook>=5.6.0->jupyterthemes) (0.1.2)\n",
      "Requirement already satisfied: MarkupSafe>=2.0 in c:\\users\\meer\\anaconda3\\lib\\site-packages (from jinja2->notebook>=5.6.0->jupyterthemes) (2.1.1)\n",
      "Requirement already satisfied: fastjsonschema in c:\\users\\meer\\anaconda3\\lib\\site-packages (from nbformat->notebook>=5.6.0->jupyterthemes) (2.16.2)\n",
      "Requirement already satisfied: jsonschema>=2.6 in c:\\users\\meer\\anaconda3\\lib\\site-packages (from nbformat->notebook>=5.6.0->jupyterthemes) (4.17.3)\n",
      "Requirement already satisfied: wcwidth in c:\\users\\meer\\anaconda3\\lib\\site-packages (from prompt-toolkit!=3.0.0,!=3.0.1,<3.1.0,>=2.0.0->ipython>=5.4.1->jupyterthemes) (0.2.5)\n",
      "Requirement already satisfied: six>=1.5 in c:\\users\\meer\\anaconda3\\lib\\site-packages (from python-dateutil>=2.7->matplotlib>=1.4.3->jupyterthemes) (1.16.0)\n",
      "Requirement already satisfied: pywinpty>=1.1.0 in c:\\users\\meer\\anaconda3\\lib\\site-packages (from terminado>=0.8.3->notebook>=5.6.0->jupyterthemes) (2.0.10)\n",
      "Requirement already satisfied: argon2-cffi-bindings in c:\\users\\meer\\anaconda3\\lib\\site-packages (from argon2-cffi->notebook>=5.6.0->jupyterthemes) (21.2.0)\n",
      "Requirement already satisfied: psutil in c:\\users\\meer\\anaconda3\\lib\\site-packages (from ipykernel->notebook>=5.6.0->jupyterthemes) (5.9.0)\n",
      "Requirement already satisfied: debugpy>=1.0 in c:\\users\\meer\\anaconda3\\lib\\site-packages (from ipykernel->notebook>=5.6.0->jupyterthemes) (1.5.1)\n",
      "Requirement already satisfied: attrs>=17.4.0 in c:\\users\\meer\\anaconda3\\lib\\site-packages (from jsonschema>=2.6->nbformat->notebook>=5.6.0->jupyterthemes) (22.1.0)\n",
      "Requirement already satisfied: pyrsistent!=0.17.0,!=0.17.1,!=0.17.2,>=0.14.0 in c:\\users\\meer\\anaconda3\\lib\\site-packages (from jsonschema>=2.6->nbformat->notebook>=5.6.0->jupyterthemes) (0.18.0)\n",
      "Requirement already satisfied: cffi>=1.0.1 in c:\\users\\meer\\anaconda3\\lib\\site-packages (from argon2-cffi-bindings->argon2-cffi->notebook>=5.6.0->jupyterthemes) (1.15.1)\n",
      "Requirement already satisfied: soupsieve>1.2 in c:\\users\\meer\\anaconda3\\lib\\site-packages (from beautifulsoup4->nbconvert>=5->notebook>=5.6.0->jupyterthemes) (2.4)\n",
      "Requirement already satisfied: webencodings in c:\\users\\meer\\anaconda3\\lib\\site-packages (from bleach->nbconvert>=5->notebook>=5.6.0->jupyterthemes) (0.5.1)\n",
      "Requirement already satisfied: pycparser in c:\\users\\meer\\anaconda3\\lib\\site-packages (from cffi>=1.0.1->argon2-cffi-bindings->argon2-cffi->notebook>=5.6.0->jupyterthemes) (2.21)\n",
      "Installing collected packages: lesscpy, jupyterthemes\n",
      "Successfully installed jupyterthemes-0.20.0 lesscpy-0.15.1\n"
     ]
    }
   ],
   "source": [
    "!pip install jupyterthemes"
   ]
  },
  {
   "cell_type": "code",
   "execution_count": 6,
   "id": "9e73c557",
   "metadata": {},
   "outputs": [
    {
     "data": {
      "text/plain": [
       "[0, 1, 2, 3, 4, 5, 6, 7, 8, 9]"
      ]
     },
     "execution_count": 6,
     "metadata": {},
     "output_type": "execute_result"
    }
   ],
   "source": [
    "import math\n",
    "# Create list of integers from 1 - 10 \n",
    "list_1 = [*range(0,10)]\n",
    "\n",
    "list_1"
   ]
  },
  {
   "cell_type": "code",
   "execution_count": 7,
   "id": "d466928b",
   "metadata": {},
   "outputs": [
    {
     "data": {
      "text/plain": [
       "[0, 1, 4, 9, 16, 25, 36, 49, 64, 81]"
      ]
     },
     "execution_count": 7,
     "metadata": {},
     "output_type": "execute_result"
    }
   ],
   "source": [
    "# create another empyt list to store squares of each integer of list_1\n",
    "list_2 = []\n",
    "\n",
    "# Iterate over each element of list_1 and store sqaure in list_2\n",
    "for num in list_1: \n",
    "    list_2.append(num**2)\n",
    "    \n",
    "list_2"
   ]
  },
  {
   "cell_type": "markdown",
   "id": "1977f56f",
   "metadata": {},
   "source": [
    "**Let's achieve the same thing using List comprehension**"
   ]
  },
  {
   "cell_type": "code",
   "execution_count": 8,
   "id": "d4a6404b",
   "metadata": {},
   "outputs": [
    {
     "data": {
      "text/plain": [
       "[0, 1, 4, 9, 16, 25, 36, 49, 64, 81]"
      ]
     },
     "execution_count": 8,
     "metadata": {},
     "output_type": "execute_result"
    }
   ],
   "source": [
    "list_2 = [num**2 for num in list_1]\n",
    "\n",
    "list_2"
   ]
  },
  {
   "cell_type": "markdown",
   "id": "88381354",
   "metadata": {},
   "source": [
    "### Look at the list comprehension, How we achived the same task in just one line of code\n",
    "\n",
    "**Advantages of list comprehension:** \n",
    "- **Concise and Readable Code:** List comprehensions allow you to express the creation of lists in a compact and readable manner, reducing the need for explicit loops and temporary variables. This leads to cleaner and more concise code.\n",
    "\n",
    "- **Reduced Code Length:** List comprehensions can often replace several lines of code with a single line, making your code more succinct.\n",
    "\n",
    "- **Improved Performance:** In many cases, list comprehensions are faster than equivalent loops, thanks to their efficient implementation in Python.\n",
    "\n",
    "- **Functional Programming Paradigm:** List comprehensions are inspired by functional programming concepts, which encourage immutability and operations on collections, making your code more expressive and maintainable.\n",
    "\n",
    "- **Scope of Variables:** Variables created in a list comprehension have their scope limited to the expression, which reduces the chance of accidental variable collisions.  \n",
    "\n",
    "\n",
    "**Disadvantages of List Comprehension:**\n",
    "\n",
    "- **Difficult Debugging:** It is very difficult to debug when we have nested list comprehensions. Sometimes we need to disintegrate each list comprehension from nested list comprehension to understand it's output or sometimes we need to write the for loops that mimics list comprehensions to understand it fully \n",
    "\n",
    "- **Not Easy to Understand:** It's not easy for beginners but once to start understanding it, it will be more easy to understand list comprehensions than the bare for loop methodology. \n",
    "\n",
    "- **Limited Expressiveness:** List comprehensions are not suitable for all types of loops and transformations. They are most effective for simple operations that can be expressed in a single line. Complex or multi-step operations may be less readable or even impossible to represent using list comprehensions.\n",
    "\n",
    "\n",
    "\n",
    "### **What we can do from list comprehensions**\n",
    "\n",
    "1. We can use if else operations in list comprehensions\n",
    "2. We can use walrus operator (introduced in Python 3.8) in list comprehensions\n",
    "3. We can use nested list comprehensions  \n",
    "\n",
    "#### Once you master the list comprehension, you will be able to do tuple, set, dictionary comprehensions\n",
    "\n",
    "Let's explore nested list comprehensions"
   ]
  },
  {
   "cell_type": "code",
   "execution_count": 10,
   "id": "374bb3e5",
   "metadata": {},
   "outputs": [
    {
     "data": {
      "text/plain": [
       "[0, 1, 16, 81, 256, 625, 1296, 2401, 4096, 6561]"
      ]
     },
     "execution_count": 10,
     "metadata": {},
     "output_type": "execute_result"
    }
   ],
   "source": [
    "# Take square of squared number and return them in a list\n",
    "\n",
    "list_2 = [num_sqr**2 for num_sqr in [num**2 for num in list_1]]\n",
    "\n",
    "list_2"
   ]
  },
  {
   "cell_type": "code",
   "execution_count": 16,
   "id": "a0784b72",
   "metadata": {},
   "outputs": [
    {
     "data": {
      "text/plain": [
       "[0, 2, 4, 6, 8]"
      ]
     },
     "execution_count": 16,
     "metadata": {},
     "output_type": "execute_result"
    }
   ],
   "source": [
    "# Seperate out even numbers using list comprehension and conditional statement\n",
    "\n",
    "list_2 = [num  for num in list_1 if num%2==0 ]\n",
    "list_2"
   ]
  },
  {
   "cell_type": "code",
   "execution_count": 21,
   "id": "ed9ed37d",
   "metadata": {},
   "outputs": [
    {
     "data": {
      "text/plain": [
       "['yes', 'no', 'yes', 'no', 'yes', 'no', 'yes', 'no', 'yes', 'no']"
      ]
     },
     "execution_count": 21,
     "metadata": {},
     "output_type": "execute_result"
    }
   ],
   "source": [
    "# Seperate out even numbers and odd numbers using list comprehension and conditional statement and return Yes and No for even and odd respectively\n",
    "\n",
    "list_2 = [\"yes\" if num%2==0 else \"no\" for num in list_1 ]\n",
    "list_2"
   ]
  },
  {
   "cell_type": "code",
   "execution_count": 7,
   "id": "de6eedde",
   "metadata": {},
   "outputs": [
    {
     "name": "stdout",
     "output_type": "stream",
     "text": [
      "{'even': [0, 2, 4, 6, 8], 'odd': [1, 3, 5, 7, 9]}\n"
     ]
    }
   ],
   "source": [
    "# Seperate out even and odds in the form {\"even\": [0,2,4,6,8,10] , \"odd\":[1,3,5,7,9]} using list comprehension\n",
    "\n",
    "result = {\"even\": [num for num in list_1 if num % 2 == 0], \"odd\": [num for num in list_1 if num % 2 != 0]}\n",
    "\n",
    "print(result)"
   ]
  },
  {
   "cell_type": "code",
   "execution_count": 2,
   "id": "2342405a",
   "metadata": {},
   "outputs": [
    {
     "name": "stdout",
     "output_type": "stream",
     "text": [
      "[1, 2, 3, 4, 5, 6, 7, 8, 9]\n"
     ]
    }
   ],
   "source": [
    "# Nested For loops in list comprehension \n",
    "# Flattening a list of list\n",
    "\n",
    "matrix = [[1, 2, 3], [4, 5, 6], [7, 8, 9]]\n",
    "flattened = [element for row in matrix for element in row]\n",
    "\n",
    "print(flattened)"
   ]
  },
  {
   "cell_type": "code",
   "execution_count": 8,
   "id": "7ed84dcb",
   "metadata": {},
   "outputs": [
    {
     "data": {
      "text/plain": [
       "[12, 16, 20, 24, 28, 32, 36]"
      ]
     },
     "execution_count": 8,
     "metadata": {},
     "output_type": "execute_result"
    }
   ],
   "source": [
    "# List comprehension using walrus operator: \n",
    "\n",
    "resulted = [result * 2 for x in list_1 if (result := x * 2) > 5]\n",
    "resulted"
   ]
  },
  {
   "cell_type": "code",
   "execution_count": 9,
   "id": "d81a6a86",
   "metadata": {},
   "outputs": [
    {
     "name": "stdout",
     "output_type": "stream",
     "text": [
      "['Small', 'Small', 'Medium', 'Medium', 'Large', 'Large', 'Large']\n"
     ]
    }
   ],
   "source": [
    "# List comprehension using if elif (else if) else\n",
    "\n",
    "numbers = [1, 5, 10, 15, 20, 25, 30]\n",
    "\n",
    "category = [\"Small\" if num < 10 else \"Medium\" if num < 20 else \"Large\" for num in numbers]\n",
    "\n",
    "print(category)"
   ]
  },
  {
   "cell_type": "code",
   "execution_count": 13,
   "id": "476a75a9",
   "metadata": {},
   "outputs": [
    {
     "name": "stdout",
     "output_type": "stream",
     "text": [
      "[10, 15]\n"
     ]
    }
   ],
   "source": [
    "numbers = [1, 5, 10, 15, 20, 25, 30]\n",
    "\n",
    "category = [num  for num in numbers if num<20 and num>5]\n",
    "\n",
    "print(category)"
   ]
  },
  {
   "cell_type": "markdown",
   "id": "53a2ddba",
   "metadata": {},
   "source": [
    "## Set Comprehension\n",
    "\n"
   ]
  },
  {
   "cell_type": "code",
   "execution_count": 17,
   "id": "8bd4d59e",
   "metadata": {},
   "outputs": [
    {
     "name": "stdout",
     "output_type": "stream",
     "text": [
      "{2, 4, 6, 8, 10}\n"
     ]
    },
    {
     "data": {
      "text/plain": [
       "[1, 3, 5, 7, 9, 0, 2, 4, 6, 8]"
      ]
     },
     "execution_count": 17,
     "metadata": {},
     "output_type": "execute_result"
    }
   ],
   "source": [
    "# Seperate out even and odds in the form {\"even\": [0,2,4,6,8,10] , \"odd\":[1,3,5,7,9]} using list comprehension\n",
    "dict_1 = {'even': [0, 2, 4, 6, 8], 'odd': [1, 3, 5, 7, 9]}\n",
    "numbers = [1, 2, 3, 4, 5, 6, 7, 8, 9, 10]\n",
    "\n",
    "even_numbers = {x for x in numbers if x % 2 == 0}\n",
    "\n",
    "print(even_numbers)\n",
    "# result = [i for i in dict_1[\"odd\"]]+[i for i in dict_1[\"even\"] ]\n",
    "# result"
   ]
  },
  {
   "cell_type": "markdown",
   "id": "61bbc498",
   "metadata": {},
   "source": [
    "## Dictionary Comprehension"
   ]
  },
  {
   "cell_type": "code",
   "execution_count": 30,
   "id": "824a9117",
   "metadata": {},
   "outputs": [
    {
     "name": "stdout",
     "output_type": "stream",
     "text": [
      "{'1 square of ': 1, '2 square of ': 2, '3 square of ': 3, '4 square of ': 4, '5 square of ': 5, '6 square of ': 6, '7 square of ': 7, '8 square of ': 8, '9 square of ': 9, '10 square of ': 10}\n"
     ]
    }
   ],
   "source": [
    "numbers = [1, 2, 3, 4, 5, 6, 7, 8, 9, 10]\n",
    "squared_numbers = {str(x)+\" square of \": x for x in numbers}\n",
    "\n",
    "print(squared_numbers)"
   ]
  },
  {
   "cell_type": "markdown",
   "id": "a0e267da",
   "metadata": {},
   "source": [
    "## Tuple Comprehension"
   ]
  },
  {
   "cell_type": "code",
   "execution_count": 33,
   "id": "a5f93f79",
   "metadata": {
    "scrolled": true
   },
   "outputs": [
    {
     "name": "stdout",
     "output_type": "stream",
     "text": [
      "(1, 4, 9, 16, 25, 36, 49, 64, 81, 100)\n"
     ]
    }
   ],
   "source": [
    "numbers = (1, 2, 3, 4, 5, 6, 7, 8, 9, 10)\n",
    "\n",
    "squared_numbers = tuple(x**2 for x in numbers)\n",
    "\n",
    "print(squared_numbers)"
   ]
  },
  {
   "cell_type": "markdown",
   "id": "138017e3",
   "metadata": {},
   "source": [
    "## Additional examples of list comprehensions"
   ]
  },
  {
   "cell_type": "code",
   "execution_count": 1,
   "id": "5f971ff7",
   "metadata": {},
   "outputs": [
    {
     "data": {
      "text/plain": [
       "[0, 1, 2, 3, 4, 5, 6, 7, 8, 9]"
      ]
     },
     "execution_count": 1,
     "metadata": {},
     "output_type": "execute_result"
    }
   ],
   "source": [
    "l1 = [i for i in range (0,10)]\n",
    "l1"
   ]
  },
  {
   "cell_type": "code",
   "execution_count": 2,
   "id": "670a0b8e",
   "metadata": {},
   "outputs": [
    {
     "data": {
      "text/plain": [
       "[0, 2, 4, 6, 8]"
      ]
     },
     "execution_count": 2,
     "metadata": {},
     "output_type": "execute_result"
    }
   ],
   "source": [
    "l2 = [i for i in range(0,10) if i%2==0]\n",
    "l2"
   ]
  },
  {
   "cell_type": "code",
   "execution_count": 6,
   "id": "070d3c0d",
   "metadata": {},
   "outputs": [
    {
     "data": {
      "text/plain": [
       "['mango',\n",
       " 'orange',\n",
       " 'orange',\n",
       " 'mango',\n",
       " 'orange',\n",
       " 'orange',\n",
       " 'mango',\n",
       " 'orange',\n",
       " 'orange',\n",
       " 'mango']"
      ]
     },
     "execution_count": 6,
     "metadata": {},
     "output_type": "execute_result"
    }
   ],
   "source": [
    "fruits = [\"mango\" if i%3==0 else \"orange\" for i in range(10)]\n",
    "fruits"
   ]
  },
  {
   "cell_type": "code",
   "execution_count": 32,
   "id": "f6282405",
   "metadata": {},
   "outputs": [
    {
     "data": {
      "text/plain": [
       "[[2], [4], [6], [8]]"
      ]
     },
     "execution_count": 32,
     "metadata": {},
     "output_type": "execute_result"
    }
   ],
   "source": [
    "l1 = [[2,4,6,8]]\n",
    "matrix = [[row[i] for row in l1] for i in range(len(l1[0]))]\n",
    "matrix"
   ]
  },
  {
   "cell_type": "code",
   "execution_count": 13,
   "id": "6213aa04",
   "metadata": {},
   "outputs": [
    {
     "ename": "SyntaxError",
     "evalue": "invalid syntax (2784380558.py, line 2)",
     "output_type": "error",
     "traceback": [
      "\u001b[1;36m  File \u001b[1;32m\"C:\\Users\\Meer\\AppData\\Local\\Temp\\ipykernel_4052\\2784380558.py\"\u001b[1;36m, line \u001b[1;32m2\u001b[0m\n\u001b[1;33m    return A if condition_is_met\u001b[0m\n\u001b[1;37m    ^\u001b[0m\n\u001b[1;31mSyntaxError\u001b[0m\u001b[1;31m:\u001b[0m invalid syntax\n"
     ]
    }
   ],
   "source": [
    "new_list = [\n",
    "  return A if condition_is_met\n",
    "  else return B if condition_is_met else return C\n",
    "  for item in a_list\n",
    "]"
   ]
  }
 ],
 "metadata": {
  "kernelspec": {
   "display_name": "Python 3 (ipykernel)",
   "language": "python",
   "name": "python3"
  },
  "language_info": {
   "codemirror_mode": {
    "name": "ipython",
    "version": 3
   },
   "file_extension": ".py",
   "mimetype": "text/x-python",
   "name": "python",
   "nbconvert_exporter": "python",
   "pygments_lexer": "ipython3",
   "version": "3.9.13"
  }
 },
 "nbformat": 4,
 "nbformat_minor": 5
}
