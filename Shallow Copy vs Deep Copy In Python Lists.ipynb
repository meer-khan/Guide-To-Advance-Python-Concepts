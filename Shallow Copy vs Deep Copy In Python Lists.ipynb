{
 "cells": [
  {
   "cell_type": "markdown",
   "id": "d8894d67",
   "metadata": {},
   "source": [
    "# Shallow Copy vs Deep Copy In Python:\n",
    "\n",
    "## Detailed Theory:\n",
    "https://medium.com/@shahmirkhan519/shallow-copy-vs-deep-copy-in-python-understanding-the-differences-and-when-to-use-each-2a29ec695ab5 "
   ]
  },
  {
   "cell_type": "markdown",
   "id": "ef7bf1b3",
   "metadata": {},
   "source": [
    "In computer programming, a copy is a new object that is created from an existing object. There are two types of copies: shallow copies and deep copies. \n",
    "\n",
    "A shallow copy creates a new object that contains the same values as the original object. However, the two objects share the same memory for any nested objects. This means that if you change the value of a nested object in one object, the change will be reflected in the other object.       \n",
    "\n",
    "A deep copy creates a new object that contains the same values as the original object, including the values of any nested objects. This means that changes to nested objects in one object will not be reflected in another."
   ]
  },
  {
   "cell_type": "markdown",
   "id": "65ffe11e",
   "metadata": {},
   "source": [
    "## Important: \n",
    "\n",
    "When taking a shallow copy of a list that contains nested objects such as **lists**, **dictionaries**, or, **sets**, modifying an existing element in either the original list or the copied list will result in changes being reflected in both lists.\n",
    "\n",
    "**Tuples have an exception:** Modifying tuple by adding two tuples using the \"+\" operator because there is no function to add in tuples as they are immutable. This will not affect the copied list, because when we add into a tuple, the memory address of the new tuple object changes, and the \"copied list\" keeps the memory address of the old tuple object but the \"original list\" keeps the memory address of newly created tuple object (by adding two tuples).\n",
    "\n",
    "However, if we add a new element to either list, it will only affect the list in which the addition was made, leaving the other list unaffected.  \n",
    "\n",
    "Similarly, if we remove an element from original list, regardless of whether it existed at the time of copying or not, the removal will not impact the other list. The other copied list will retain its own memory address or reference for that particular element.\n",
    "\n",
    "In summary, with a shallow copy of a list containing nested objects, modifications to existing elements are shared between the original list and the copied list.   \n",
    "However, adding or removing elements affects only the list in which the operation was performed, without affecting the other list."
   ]
  },
  {
   "cell_type": "code",
   "execution_count": 35,
   "id": "1e452d81",
   "metadata": {},
   "outputs": [],
   "source": [
    "# We will work with all given vairations of objects in Python lists \n",
    "\n",
    "l1_original = [1,2,3]\n",
    "l2_original = [\"str\", \"str1\", \"str3\"]\n",
    "l3_original = [1.3,5.9,3.3]\n",
    "l4_original = [[1,2],[3,4],[5,6]]\n",
    "l5_original = [(1,2),(3,4),(5,6)]\n",
    "l6_original = [{1,2},{6,7}, {9,0}]\n",
    "l7_original = [{\"first\":\"Shahmeer\", \"last\":\"khan\"}, {\"age\":24 , \"Gender\":\"M\"}]"
   ]
  },
  {
   "cell_type": "markdown",
   "id": "37f58feb",
   "metadata": {},
   "source": [
    "### List of Integers"
   ]
  },
  {
   "cell_type": "code",
   "execution_count": 13,
   "id": "e6323671",
   "metadata": {},
   "outputs": [
    {
     "name": "stdout",
     "output_type": "stream",
     "text": [
      "Original List:  [1, 2, 3, 5] \n",
      "\n",
      " Copied List:  [1, 2, 3, 5]\n"
     ]
    }
   ],
   "source": [
    "# Copying without using copy function.\n",
    "# Python assigns same memory address to both lists and change in either will affect both lists.\n",
    "\n",
    "l1_original = [1,2,3]\n",
    "l1_copy = l1_original \n",
    "l1_original.append(5)\n",
    "print(\"Original List: \",l1_original ,\"\\n\\n\",\"Copied List: \", l1_copy )"
   ]
  },
  {
   "cell_type": "code",
   "execution_count": 14,
   "id": "2de75b36",
   "metadata": {},
   "outputs": [
    {
     "name": "stdout",
     "output_type": "stream",
     "text": [
      "Original List:  [1, 2, 3, 5] \n",
      "\n",
      " Copied List:  [1, 2, 3]\n"
     ]
    }
   ],
   "source": [
    "# Copying using \"copy()\" function which is called shallow copy of object\n",
    "# Copied list will not be affected after modifying any element in original list.\n",
    "\n",
    "l1_original = [1,2,3]\n",
    "l1_copy = l1_original.copy()\n",
    "l1_original.append(5)\n",
    "print(\"Original List: \",l1_original ,\"\\n\\n\",\"Copied List: \", l1_copy )"
   ]
  },
  {
   "cell_type": "markdown",
   "id": "a93593ec",
   "metadata": {},
   "source": [
    "### List of Strings"
   ]
  },
  {
   "cell_type": "code",
   "execution_count": 26,
   "id": "e2302f80",
   "metadata": {
    "scrolled": true
   },
   "outputs": [
    {
     "name": "stdout",
     "output_type": "stream",
     "text": [
      "Original List:  ['str', 'str1', 'str3', 'str4'] \n",
      "\n",
      " Copied List:  ['str', 'str1', 'str3']\n"
     ]
    }
   ],
   "source": [
    "# Appending into List of Strings\n",
    "\n",
    "l2_original = [\"str\", \"str1\", \"str3\"]\n",
    "l2_copy = l2_original.copy()\n",
    "l2_original.append(\"str4\")\n",
    "print(\"Original List: \",l2_original ,\"\\n\\n\",\"Copied List: \", l2_copy )"
   ]
  },
  {
   "cell_type": "markdown",
   "id": "b37483c9",
   "metadata": {},
   "source": [
    "### List of Floats"
   ]
  },
  {
   "cell_type": "code",
   "execution_count": 25,
   "id": "eca3f5b9",
   "metadata": {},
   "outputs": [
    {
     "name": "stdout",
     "output_type": "stream",
     "text": [
      "Original List:  [1.3, 5.9, 3.3, 0.9] \n",
      "\n",
      " Copied List:  [1.3, 5.9, 3.3]\n"
     ]
    }
   ],
   "source": [
    "# Appending into List of Floats\n",
    "\n",
    "l3_original = [1.3,5.9,3.3]\n",
    "l3_copy = l3_original.copy()\n",
    "l3_original.append(0.9)\n",
    "print(\"Original List: \",l3_original ,\"\\n\\n\",\"Copied List: \", l3_copy )"
   ]
  },
  {
   "cell_type": "markdown",
   "id": "caf74f3d",
   "metadata": {},
   "source": [
    "### List of Lists"
   ]
  },
  {
   "cell_type": "code",
   "execution_count": 17,
   "id": "54ee1f84",
   "metadata": {},
   "outputs": [
    {
     "name": "stdout",
     "output_type": "stream",
     "text": [
      "Original List:  [[1, 2], [3, 4], [5, 6], [90, 100]] \n",
      "\n",
      " Copied List:  [[1, 2], [3, 4], [5, 6]]\n"
     ]
    }
   ],
   "source": [
    "# Appending elements in list of lists after copying it\n",
    "\n",
    "l4_original = [[1,2],[3,4],[5,6]]\n",
    "l4_copy = l4_original.copy()\n",
    "l4_original.append([90,100])\n",
    "print(\"Original List: \",l4_original ,\"\\n\\n\",\"Copied List: \", l4_copy )"
   ]
  },
  {
   "cell_type": "code",
   "execution_count": 18,
   "id": "b07cdc75",
   "metadata": {},
   "outputs": [
    {
     "name": "stdout",
     "output_type": "stream",
     "text": [
      "Original List:  [[1, 2, 3.5], [3, 4], [5, 6]] \n",
      "\n",
      " Copied List:  [[1, 2, 3.5], [3, 4], [5, 6]]\n"
     ]
    }
   ],
   "source": [
    "# Modify Element of original list\n",
    "\n",
    "l4_original = [[1,2],[3,4],[5,6]]\n",
    "l4_copy = l4_original.copy()\n",
    "l4_original[0].append(3.5)\n",
    "print(\"Original List: \",l4_original ,\"\\n\\n\",\"Copied List: \", l4_copy )"
   ]
  },
  {
   "cell_type": "code",
   "execution_count": 20,
   "id": "0b9fbf2b",
   "metadata": {},
   "outputs": [
    {
     "name": "stdout",
     "output_type": "stream",
     "text": [
      "Original List:  [[1, 2], [3, 4]] \n",
      "\n",
      " Copied List:  [[1, 2], [3, 4], [5, 6]]\n"
     ]
    }
   ],
   "source": [
    "# Popping last item for List of Lists\n",
    "\n",
    "l4_original = [[1,2],[3,4],[5,6]]\n",
    "l4_copy = l4_original.copy()\n",
    "l4_original.pop()\n",
    "print(\"Original List: \",l4_original ,\"\\n\\n\",\"Copied List: \", l4_copy )"
   ]
  },
  {
   "cell_type": "code",
   "execution_count": 22,
   "id": "55e888c7",
   "metadata": {},
   "outputs": [
    {
     "name": "stdout",
     "output_type": "stream",
     "text": [
      "[[3, 4], [5, 6]] ----- [[1, 2], [3, 4], [5, 6]]\n",
      "[[1, 2], [3, 4], [5, 6]] ----- [[1, 2], [3, 4], [5, 6]]\n"
     ]
    }
   ],
   "source": [
    "# EXTRASSSSSSS....\n",
    "\n",
    "l4 = [[1,2],[3,4],[5,6]]\n",
    "l44 = l4.copy() \n",
    "del l4[0]\n",
    "print(l4 , \"-----\", l44)\n",
    "\n",
    "\n",
    "l4 = [[1,2],[3,4],[5,6]]\n",
    "l44 = l4.copy()\n",
    "ele = l4[0]\n",
    "del ele\n",
    "print(l4 , \"-----\", l44)"
   ]
  },
  {
   "cell_type": "markdown",
   "id": "11082321",
   "metadata": {},
   "source": [
    "### List of Tuples"
   ]
  },
  {
   "cell_type": "code",
   "execution_count": 24,
   "id": "195bb9d3",
   "metadata": {},
   "outputs": [
    {
     "name": "stdout",
     "output_type": "stream",
     "text": [
      "Original List:  [(1, 2), (3, 4), (5, 6), (55, 66)] \n",
      "\n",
      " Copied List:  [(1, 2), (3, 4), (5, 6)]\n"
     ]
    }
   ],
   "source": [
    "# Appending into List of Tuples \n",
    "\n",
    "\n",
    "l5_original = [(1,2),(3,4),(5,6)]\n",
    "l5_copy = l5_original.copy() \n",
    "l5_original.append((55,66))\n",
    "print(\"Original List: \",l5_original ,\"\\n\\n\",\"Copied List: \", l5_copy )"
   ]
  },
  {
   "cell_type": "code",
   "execution_count": 27,
   "id": "637d4cc4",
   "metadata": {},
   "outputs": [
    {
     "name": "stdout",
     "output_type": "stream",
     "text": [
      "Original List:  [(1, 2, 77), (3, 4), (5, 6)] \n",
      "\n",
      " Copied List:  [(1, 2), (3, 4), (5, 6)]\n"
     ]
    }
   ],
   "source": [
    "# Modifying Existing Elements of List of Tuples \n",
    "\n",
    "l5_original = [(1,2),(3,4),(5,6)]\n",
    "l5_copy = l5_original.copy() \n",
    "l5_original[0]= l5_original[0]+(77,)\n",
    "print(\"Original List: \",l5_original ,\"\\n\\n\",\"Copied List: \", l5_copy )\n",
    "\n",
    "# There is no change in the copied list. \n",
    "# This is because, Tuples are immutable objects, if we are adding two tuples like we did l5_original[0]+(77,), it will \n",
    "# change the memory address of new concatinated tuple and \"copied list\" will keep the reference id of the old tuple object"
   ]
  },
  {
   "cell_type": "code",
   "execution_count": 28,
   "id": "e57b46cd",
   "metadata": {},
   "outputs": [
    {
     "name": "stdout",
     "output_type": "stream",
     "text": [
      "Original List:  [(1, 2), (3, 4)] \n",
      "\n",
      " Copied List:  [(1, 2), (3, 4), (5, 6)]\n"
     ]
    }
   ],
   "source": [
    "# Popping Last Item from list of Tuples \n",
    "\n",
    "l5_original = [(1,2),(3,4),(5,6)]\n",
    "l5_copy = l5_original.copy() \n",
    "l5_original.pop()\n",
    "print(\"Original List: \",l5_original ,\"\\n\\n\",\"Copied List: \", l5_copy )\n"
   ]
  },
  {
   "cell_type": "markdown",
   "id": "ca5bdf97",
   "metadata": {},
   "source": [
    "### List of Sets "
   ]
  },
  {
   "cell_type": "code",
   "execution_count": 29,
   "id": "1760d3b4",
   "metadata": {},
   "outputs": [
    {
     "name": "stdout",
     "output_type": "stream",
     "text": [
      "Original List:  [{1, 2}, {6, 7}, {0, 9}, {66, 55}] \n",
      "\n",
      " Copied List:  [{1, 2}, {6, 7}, {0, 9}]\n"
     ]
    }
   ],
   "source": [
    "# Appending in List of Sets\n",
    "\n",
    "l6_original = [{1,2},{6,7}, {9,0}]\n",
    "l6_copy = l6_original.copy() \n",
    "l6_original.append({55,66})\n",
    "print(\"Original List: \",l6_original ,\"\\n\\n\",\"Copied List: \", l6_copy )"
   ]
  },
  {
   "cell_type": "code",
   "execution_count": 30,
   "id": "b27adae0",
   "metadata": {},
   "outputs": [
    {
     "name": "stdout",
     "output_type": "stream",
     "text": [
      "Original List:  [{1, 2, 77}, {6, 7}, {0, 9}] \n",
      "\n",
      " Copied List:  [{1, 2, 77}, {6, 7}, {0, 9}]\n"
     ]
    }
   ],
   "source": [
    "# Modifying Existing Elements of List of Sets \n",
    "\n",
    "\n",
    "l6_original = [{1,2},{6,7}, {9,0}]\n",
    "l6_copy = l6_original.copy() \n",
    "l6_original[0].add(77)\n",
    "print(\"Original List: \",l6_original ,\"\\n\\n\",\"Copied List: \", l6_copy )"
   ]
  },
  {
   "cell_type": "code",
   "execution_count": 31,
   "id": "11fd85f4",
   "metadata": {},
   "outputs": [
    {
     "name": "stdout",
     "output_type": "stream",
     "text": [
      "Original List:  [{1, 2}, {6, 7}] \n",
      "\n",
      " Copied List:  [{1, 2}, {6, 7}, {0, 9}]\n"
     ]
    }
   ],
   "source": [
    "# Popping Elements from List of Sets\n",
    "\n",
    "l6_original = [{1,2},{6,7}, {9,0}]\n",
    "l6_copy = l6_original.copy() \n",
    "l6_original.pop()\n",
    "print(\"Original List: \",l6_original ,\"\\n\\n\",\"Copied List: \", l6_copy )"
   ]
  },
  {
   "cell_type": "markdown",
   "id": "22b61a9f",
   "metadata": {},
   "source": [
    "### List of Dictionaries"
   ]
  },
  {
   "cell_type": "code",
   "execution_count": 34,
   "id": "c1403116",
   "metadata": {},
   "outputs": [
    {
     "name": "stdout",
     "output_type": "stream",
     "text": [
      "Original List:  [{'first': 'Shahmeer', 'last': 'khan'}, {'age': 24, 'Gender': 'M'}, {'email': 'shahmirkhan519@gmail.com'}] \n",
      "\n",
      " Copied List:  [{'first': 'Shahmeer', 'last': 'khan'}, {'age': 24, 'Gender': 'M'}]\n"
     ]
    }
   ],
   "source": [
    "# Appending into List of Dictionaries\n",
    "\n",
    "l7_original = [{\"first\":\"Shahmeer\", \"last\":\"khan\"}, {\"age\":24 , \"Gender\":\"M\"}]\n",
    "l7_copy = l7_original.copy() \n",
    "l7_original.append({\"email\":\"shahmirkhan519@gmail.com\"})\n",
    "print(\"Original List: \",l7_original ,\"\\n\\n\",\"Copied List: \", l7_copy )"
   ]
  },
  {
   "cell_type": "code",
   "execution_count": 37,
   "id": "d171baf8",
   "metadata": {},
   "outputs": [
    {
     "name": "stdout",
     "output_type": "stream",
     "text": [
      "Original List:  [{'name': 'Shahmeer', 'last': 'khan', 'email': 'shahmirkhan519@gmail.com'}, {'age': 15, 'Gender': 'M'}] \n",
      "\n",
      " Copied List:  [{'name': 'Shahmeer', 'last': 'khan', 'email': 'shahmirkhan519@gmail.com'}, {'age': 15, 'Gender': 'M'}]\n"
     ]
    }
   ],
   "source": [
    "# Modifying into List of Dicts\n",
    "\n",
    "l7_original = [{\"first\":\"Shahmeer\", \"last\":\"khan\"}, {\"age\":24 , \"Gender\":\"M\"}]\n",
    "l7_copy = l7_original.copy() \n",
    "l7_original[0].update({\"email\":\"shahmirkhan519@gmail.com\"})\n",
    "print(\"Original List: \",l7_original ,\"\\n\\n\",\"Copied List: \", l7_copy )"
   ]
  },
  {
   "cell_type": "code",
   "execution_count": 41,
   "id": "3bee0082",
   "metadata": {},
   "outputs": [
    {
     "name": "stdout",
     "output_type": "stream",
     "text": [
      "Original List:  [{'name': 'Shahmeer', 'last': 'khan'}] \n",
      "\n",
      " Copied List:  [{'name': 'Shahmeer', 'last': 'khan'}, {'age': 15, 'Gender': 'M'}]\n"
     ]
    }
   ],
   "source": [
    "# Popping Last Element From List of Dictionaries\n",
    "\n",
    "l7_original = [{\"first\":\"Shahmeer\", \"last\":\"khan\"}, {\"age\":24 , \"Gender\":\"M\"}]\n",
    "l7_copy = l7_original.copy() \n",
    "l7_original.pop()\n",
    "print(\"Original List: \",l7_original ,\"\\n\\n\",\"Copied List: \", l7_copy )"
   ]
  },
  {
   "cell_type": "code",
   "execution_count": 45,
   "id": "68e0f78c",
   "metadata": {},
   "outputs": [
    {
     "name": "stdout",
     "output_type": "stream",
     "text": [
      "Original List:  [{'last': 'khan'}, {'age': 24, 'Gender': 'M'}] \n",
      "\n",
      " Copied List:  [{'last': 'khan'}, {'age': 24, 'Gender': 'M'}]\n"
     ]
    }
   ],
   "source": [
    "# Popping A key From the 1st indexed Dictionary of List\n",
    "\n",
    "l7_original = [{\"first\":\"Shahmeer\", \"last\":\"khan\"}, {\"age\":24 , \"Gender\":\"M\"}]\n",
    "l7_copy = l7_original.copy() \n",
    "l7_original[0].pop(\"first\",\"NO KEY FOUND\")\n",
    "print(\"Original List: \",l7_original ,\"\\n\\n\",\"Copied List: \", l7_copy )\n",
    "\n",
    "# removed from original as well as copied list because we removed the element from the object whose memory address \n",
    "# was shared by the original and copied lists\n",
    "\n",
    "# We cannot remove elements from the Tuple like dictionaries we just did because tuples are immutable."
   ]
  },
  {
   "cell_type": "markdown",
   "id": "e583774a",
   "metadata": {},
   "source": [
    "## Modifying List Of Objects Through Deep Copy "
   ]
  },
  {
   "cell_type": "code",
   "execution_count": 46,
   "id": "27a3095b",
   "metadata": {},
   "outputs": [],
   "source": [
    "import copyy"
   ]
  },
  {
   "cell_type": "markdown",
   "id": "23a4b3f0",
   "metadata": {},
   "source": [
    "### Deep Copy - Modification - List of Lists"
   ]
  },
  {
   "cell_type": "code",
   "execution_count": 47,
   "id": "648cef81",
   "metadata": {},
   "outputs": [
    {
     "name": "stdout",
     "output_type": "stream",
     "text": [
      "Original List:  [[1, 2, 3.5], [3, 4], [5, 6]] \n",
      "\n",
      " Copied List:  [[1, 2], [3, 4], [5, 6]]\n"
     ]
    }
   ],
   "source": [
    "# Modify Element in original list \n",
    "\n",
    "l4_original = [[1,2],[3,4],[5,6]]\n",
    "l4_copy = copy.deepcopy(l4_original)\n",
    "l4_original[0].append(3.5)\n",
    "print(\"Original List: \",l4_original ,\"\\n\\n\",\"Copied List: \", l4_copy )"
   ]
  },
  {
   "cell_type": "markdown",
   "id": "95b323e7",
   "metadata": {},
   "source": [
    "### Deep Copy - Modification - List of Sets\n"
   ]
  },
  {
   "cell_type": "code",
   "execution_count": 49,
   "id": "da9b1b4d",
   "metadata": {},
   "outputs": [
    {
     "name": "stdout",
     "output_type": "stream",
     "text": [
      "Original List:  [{1, 2, 77}, {6, 7}, {0, 9}] \n",
      "\n",
      " Copied List:  [{1, 2}, {6, 7}, {0, 9}]\n"
     ]
    }
   ],
   "source": [
    "# Modify Element in original list\n",
    "\n",
    "l6_original = [{1,2},{6,7}, {9,0}]\n",
    "l6_copy = copy.deepcopy(l6_original)\n",
    "l6_original[0].add(77)\n",
    "print(\"Original List: \",l6_original ,\"\\n\\n\",\"Copied List: \", l6_copy )"
   ]
  },
  {
   "cell_type": "markdown",
   "id": "f9035b14",
   "metadata": {},
   "source": [
    "### Deep Copy - Modification - List of Dictionary"
   ]
  },
  {
   "cell_type": "code",
   "execution_count": 50,
   "id": "696181dd",
   "metadata": {},
   "outputs": [
    {
     "name": "stdout",
     "output_type": "stream",
     "text": [
      "Original List:  [{'first': 'Shahmeer', 'last': 'khan', 'email': 'shahmirkhan519@gmail.com'}, {'age': 24, 'Gender': 'M'}] \n",
      "\n",
      " Copied List:  [{'first': 'Shahmeer', 'last': 'khan'}, {'age': 24, 'Gender': 'M'}]\n"
     ]
    }
   ],
   "source": [
    "# Modifying into List of Dicts\n",
    "\n",
    "l7_original = [{\"first\":\"Shahmeer\", \"last\":\"khan\"}, {\"age\":24 , \"Gender\":\"M\"}]\n",
    "l7_copy = copy.deepcopy(l7_original)\n",
    "l7_original[0].update({\"email\":\"shahmirkhan519@gmail.com\"})\n",
    "print(\"Original List: \",l7_original ,\"\\n\\n\",\"Copied List: \", l7_copy )"
   ]
  },
  {
   "cell_type": "code",
   "execution_count": 51,
   "id": "9ecd5213",
   "metadata": {},
   "outputs": [
    {
     "name": "stdout",
     "output_type": "stream",
     "text": [
      "Original List:  [{'last': 'khan'}, {'age': 24, 'Gender': 'M'}] \n",
      "\n",
      " Copied List:  [{'first': 'Shahmeer', 'last': 'khan'}, {'age': 24, 'Gender': 'M'}]\n"
     ]
    }
   ],
   "source": [
    "# # Popping A key From the 1st indexed Dictionary of List\n",
    "\n",
    "l7_original = [{\"first\":\"Shahmeer\", \"last\":\"khan\"}, {\"age\":24 , \"Gender\":\"M\"}]\n",
    "l7_copy = copy.deepcopy(l7_original) \n",
    "l7_original[0].pop(\"first\",\"NO KEY FOUND\")\n",
    "print(\"Original List: \",l7_original ,\"\\n\\n\",\"Copied List: \", l7_copy )"
   ]
  },
  {
   "cell_type": "code",
   "execution_count": 1,
   "id": "c38c6d57",
   "metadata": {},
   "outputs": [
    {
     "name": "stdout",
     "output_type": "stream",
     "text": [
      "HELLO WORLD\n"
     ]
    }
   ],
   "source": [
    "print(\"HELLO WORLD\")"
   ]
  },
  {
   "cell_type": "code",
   "execution_count": null,
   "id": "8eb5867a",
   "metadata": {},
   "outputs": [],
   "source": []
  },
  {
   "cell_type": "code",
   "execution_count": null,
   "id": "5dcccc5c",
   "metadata": {},
   "outputs": [],
   "source": []
  }
 ],
 "metadata": {
  "kernelspec": {
   "display_name": "Python 3 (ipykernel)",
   "language": "python",
   "name": "python3"
  },
  "language_info": {
   "codemirror_mode": {
    "name": "ipython",
    "version": 3
   },
   "file_extension": ".py",
   "mimetype": "text/x-python",
   "name": "python",
   "nbconvert_exporter": "python",
   "pygments_lexer": "ipython3",
   "version": "3.9.13"
  }
 },
 "nbformat": 4,
 "nbformat_minor": 5
}
