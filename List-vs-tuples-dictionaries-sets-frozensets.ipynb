{
 "cells": [
  {
   "cell_type": "markdown",
   "id": "627cd63e",
   "metadata": {},
   "source": [
    "# Lists\n",
    "- Functions \n",
    "- Unpacking \n",
    "- Multiplication operations \n",
    "- Slicing \n",
    "- Finding an element in list\n",
    "- Efficient way to work with lists "
   ]
  },
  {
   "cell_type": "markdown",
   "id": "c17f9b01",
   "metadata": {},
   "source": [
    "## Creation of list \n",
    "Method 1: with list class object  (formal notation)   \n",
    "Method 2: bracket syntax (literal notation) "
   ]
  },
  {
   "cell_type": "code",
   "execution_count": 46,
   "id": "9e815bd6",
   "metadata": {},
   "outputs": [
    {
     "data": {
      "text/plain": [
       "[1, 2, 3]"
      ]
     },
     "execution_count": 46,
     "metadata": {},
     "output_type": "execute_result"
    }
   ],
   "source": [
    "# formal notation \n",
    "list_formal = list((1,2,3))\n",
    "list_formal"
   ]
  },
  {
   "cell_type": "code",
   "execution_count": 47,
   "id": "02879e40",
   "metadata": {},
   "outputs": [],
   "source": [
    "# Literal notation\n",
    "list_literal = [1,2,3]"
   ]
  },
  {
   "cell_type": "code",
   "execution_count": 48,
   "id": "312209c3",
   "metadata": {},
   "outputs": [],
   "source": [
    "# Creation of big list can be time taking, and time Efficiency of literal format is higher than the formal notation"
   ]
  },
  {
   "cell_type": "markdown",
   "id": "c1568bf6",
   "metadata": {},
   "source": [
    "### List functions\n",
    "- append()\n",
    "- insert()\n",
    "- pop()\n",
    "- remove()\n",
    "- extend()\n",
    "- len()\n",
    "- count() \n",
    "- index()\n",
    "- sort() \n",
    "- reverse()\n",
    "- clear() \n",
    "- del"
   ]
  },
  {
   "cell_type": "code",
   "execution_count": 49,
   "id": "32e78649",
   "metadata": {},
   "outputs": [
    {
     "data": {
      "text/plain": [
       "[1, 2, 3, 5]"
      ]
     },
     "execution_count": 49,
     "metadata": {},
     "output_type": "execute_result"
    }
   ],
   "source": [
    "# Useful functions of lists: \n",
    "\n",
    "# Appending: \n",
    "list_literal.append(5)\n",
    "list_literal"
   ]
  },
  {
   "cell_type": "code",
   "execution_count": 50,
   "id": "04b08527",
   "metadata": {},
   "outputs": [
    {
     "data": {
      "text/plain": [
       "[1, 2, 10, 3, 5]"
      ]
     },
     "execution_count": 50,
     "metadata": {},
     "output_type": "execute_result"
    }
   ],
   "source": [
    "# Inserting\n",
    "\n",
    "list_literal.insert(2,10)\n",
    "list_literal\n",
    "\n",
    "# Added 10 at index 2"
   ]
  },
  {
   "cell_type": "code",
   "execution_count": 51,
   "id": "db700e1e",
   "metadata": {},
   "outputs": [
    {
     "data": {
      "text/plain": [
       "[1, 2, 10, 3]"
      ]
     },
     "execution_count": 51,
     "metadata": {},
     "output_type": "execute_result"
    }
   ],
   "source": [
    "# Deleting last item\n",
    "list_literal.pop()\n",
    "\n",
    "list_literal"
   ]
  },
  {
   "cell_type": "code",
   "execution_count": 52,
   "id": "44599186",
   "metadata": {},
   "outputs": [
    {
     "data": {
      "text/plain": [
       "[1, 2, 3]"
      ]
     },
     "execution_count": 52,
     "metadata": {},
     "output_type": "execute_result"
    }
   ],
   "source": [
    "# Removing/Deleting a specific element (first occurance)\n",
    "\n",
    "list_literal.remove(10)\n",
    "list_literal"
   ]
  },
  {
   "cell_type": "code",
   "execution_count": 53,
   "id": "aec93754",
   "metadata": {},
   "outputs": [
    {
     "data": {
      "text/plain": [
       "[1, 3]"
      ]
     },
     "execution_count": 53,
     "metadata": {},
     "output_type": "execute_result"
    }
   ],
   "source": [
    "# Removing Element at specified index\n",
    "\n",
    "# we use pop() for this operation, by default, pop has -1 index, but we can pass desired index\n",
    "list_literal.pop(1)\n",
    "list_literal"
   ]
  },
  {
   "cell_type": "code",
   "execution_count": 54,
   "id": "c801d15f",
   "metadata": {},
   "outputs": [
    {
     "data": {
      "text/plain": [
       "[1, 3, 5, 2, 7, 8, 9]"
      ]
     },
     "execution_count": 54,
     "metadata": {},
     "output_type": "execute_result"
    }
   ],
   "source": [
    "# Adding another list into other list\n",
    "\n",
    "list_literal.extend([5,2,7,8,9])\n",
    "list_literal"
   ]
  },
  {
   "cell_type": "code",
   "execution_count": 55,
   "id": "897970c8",
   "metadata": {},
   "outputs": [
    {
     "data": {
      "text/plain": [
       "7"
      ]
     },
     "execution_count": 55,
     "metadata": {},
     "output_type": "execute_result"
    }
   ],
   "source": [
    "# Finding length of list\n",
    "len(list_literal)"
   ]
  },
  {
   "cell_type": "code",
   "execution_count": 56,
   "id": "ed8269c2",
   "metadata": {},
   "outputs": [
    {
     "data": {
      "text/plain": [
       "1"
      ]
     },
     "execution_count": 56,
     "metadata": {},
     "output_type": "execute_result"
    }
   ],
   "source": [
    "# Counting the number, an element repeated in a list \n",
    "\n",
    "# Number of time 5 is repeated in a list\n",
    "list_literal.count(5)"
   ]
  },
  {
   "cell_type": "code",
   "execution_count": 57,
   "id": "6269792e",
   "metadata": {},
   "outputs": [
    {
     "name": "stdout",
     "output_type": "stream",
     "text": [
      "[]\n"
     ]
    }
   ],
   "source": [
    "# Clearing all the elements of list: \n",
    "list_to_clear = [1,2,3,4,5]\n",
    "list_to_clear.clear()\n",
    "\n",
    "print(list_to_clear)\n",
    "    "
   ]
  },
  {
   "cell_type": "code",
   "execution_count": 58,
   "id": "3fdf1000",
   "metadata": {},
   "outputs": [
    {
     "name": "stdout",
     "output_type": "stream",
     "text": [
      "[]\n"
     ]
    }
   ],
   "source": [
    "# Another syntax to clear a list \n",
    "list_to_clear = [1,2,3,4,5]\n",
    "\n",
    "del list_to_clear[:]\n",
    "print(list_to_clear)"
   ]
  },
  {
   "cell_type": "code",
   "execution_count": 59,
   "id": "4e641e4e",
   "metadata": {},
   "outputs": [],
   "source": [
    "# Deleting a list \n",
    "del list_to_clear\n",
    "\n",
    "# list_to_clear"
   ]
  },
  {
   "cell_type": "code",
   "execution_count": 60,
   "id": "99c06748",
   "metadata": {},
   "outputs": [
    {
     "data": {
      "text/plain": [
       "2"
      ]
     },
     "execution_count": 60,
     "metadata": {},
     "output_type": "execute_result"
    }
   ],
   "source": [
    "# Find index of any element in list \n",
    "list_literal.index(5)"
   ]
  },
  {
   "cell_type": "code",
   "execution_count": 61,
   "id": "da8fcd5e",
   "metadata": {},
   "outputs": [
    {
     "name": "stdout",
     "output_type": "stream",
     "text": [
      "[1, 2, 3, 5, 7, 8, 9]\n"
     ]
    }
   ],
   "source": [
    "# Sorting list in ascending order \n",
    "list_literal.sort()\n",
    "print(list_literal)"
   ]
  },
  {
   "cell_type": "code",
   "execution_count": 62,
   "id": "39e1278f",
   "metadata": {},
   "outputs": [
    {
     "data": {
      "text/plain": [
       "[9, 8, 7, 5, 3, 2, 1]"
      ]
     },
     "execution_count": 62,
     "metadata": {},
     "output_type": "execute_result"
    }
   ],
   "source": [
    "# Sorting list in descending order \n",
    "list_literal.sort(reverse = True )\n",
    "list_literal\n"
   ]
  },
  {
   "cell_type": "code",
   "execution_count": 63,
   "id": "c26bdc9b",
   "metadata": {},
   "outputs": [
    {
     "data": {
      "text/plain": [
       "[1, 2, 3, 5, 7, 8, 9]"
      ]
     },
     "execution_count": 63,
     "metadata": {},
     "output_type": "execute_result"
    }
   ],
   "source": [
    "# Reversing a list which is equal of sorting in descending order \n",
    "list_literal.reverse()\n",
    "list_literal"
   ]
  },
  {
   "cell_type": "markdown",
   "id": "bb5ab590",
   "metadata": {},
   "source": [
    "### Unpacking a list \n",
    "using an asterisk () before the list name. This is called “unpacking” or “splat” operator. It can be used in different scenarios such as function arguments or in assigning values to multiple variables."
   ]
  },
  {
   "cell_type": "code",
   "execution_count": 64,
   "id": "75033b8f",
   "metadata": {},
   "outputs": [
    {
     "name": "stdout",
     "output_type": "stream",
     "text": [
      "1 2 3 5 7 8 9\n"
     ]
    }
   ],
   "source": [
    "# Unpacking a list \n",
    "print(*list_literal)"
   ]
  },
  {
   "cell_type": "markdown",
   "id": "de4a15f1",
   "metadata": {},
   "source": [
    "If you want to unpack the first few elements of a list and don’t care about the other elements, you can:\n",
    "\n",
    "First, unpack the needed elements to variables.\n",
    "Second, pack the leftover elements into a new list and assign it to another variable.\n",
    "By putting the asterisk (*) in front of a variable name, you’ll pack the leftover elements into a list and assign them to a variable. For example:"
   ]
  },
  {
   "cell_type": "code",
   "execution_count": 65,
   "id": "5cbb8cd4",
   "metadata": {},
   "outputs": [
    {
     "name": "stdout",
     "output_type": "stream",
     "text": [
      "red\n",
      "blue\n",
      "['green', 'yellow']\n"
     ]
    }
   ],
   "source": [
    "# More on Unpacking \n",
    "colors = ['red', 'blue', 'green', \"yellow\"]\n",
    "first, second, *other = colors\n",
    "\n",
    "print(first)\n",
    "print(second)\n",
    "print(other)"
   ]
  },
  {
   "cell_type": "code",
   "execution_count": 66,
   "id": "b0f95c71",
   "metadata": {},
   "outputs": [
    {
     "data": {
      "text/plain": [
       "[[1, 2, 3, 5, 7, 8, 9], [1, 2, 3]]"
      ]
     },
     "execution_count": 66,
     "metadata": {},
     "output_type": "execute_result"
    }
   ],
   "source": [
    "# Combinning 2 lists into 1 list \n",
    "\n",
    "combined_list = [list_literal,list_formal]\n",
    "combined_list"
   ]
  },
  {
   "cell_type": "code",
   "execution_count": 67,
   "id": "33f12ce3",
   "metadata": {},
   "outputs": [
    {
     "data": {
      "text/plain": [
       "[1, 2, 3, 5, 7, 8, 9, 1, 2, 3]"
      ]
     },
     "execution_count": 67,
     "metadata": {},
     "output_type": "execute_result"
    }
   ],
   "source": [
    "# But we want elements of list1 and list2 into list3 \n",
    "combined_list = [*list_literal,*list_formal]\n",
    "combined_list"
   ]
  },
  {
   "cell_type": "code",
   "execution_count": 68,
   "id": "7376fa78",
   "metadata": {},
   "outputs": [
    {
     "data": {
      "text/plain": [
       "[1, 2, 3, 5, 7, 8, 9, 1, 2, 3]"
      ]
     },
     "execution_count": 68,
     "metadata": {},
     "output_type": "execute_result"
    }
   ],
   "source": [
    "# Another syntax of combinning 2 lists \n",
    "combined_list = list_literal+list_formal\n",
    "combined_list"
   ]
  },
  {
   "cell_type": "code",
   "execution_count": 69,
   "id": "cb454f22",
   "metadata": {},
   "outputs": [
    {
     "name": "stdout",
     "output_type": "stream",
     "text": [
      "15\n"
     ]
    }
   ],
   "source": [
    "# Passing list elements into function\n",
    "\n",
    "def add(a,b,c):\n",
    "    return a+b+c\n",
    "\n",
    "print(add(*[9,1,5]))"
   ]
  },
  {
   "cell_type": "code",
   "execution_count": 70,
   "id": "5d482d39",
   "metadata": {},
   "outputs": [
    {
     "name": "stdout",
     "output_type": "stream",
     "text": [
      "1 [2, 3, 4, 5] 6\n"
     ]
    }
   ],
   "source": [
    "a,*b,c = [1,2,3,4,5,6]\n",
    "print(a,b,c)"
   ]
  },
  {
   "cell_type": "code",
   "execution_count": 71,
   "id": "cb5a067b",
   "metadata": {},
   "outputs": [
    {
     "name": "stdout",
     "output_type": "stream",
     "text": [
      "1 2 [3, 4, 5, 6]\n"
     ]
    }
   ],
   "source": [
    "a,b,*c = [1,2,3,4,5,6]\n",
    "print(a,b,c)"
   ]
  },
  {
   "cell_type": "code",
   "execution_count": 72,
   "id": "e09395ef",
   "metadata": {},
   "outputs": [
    {
     "name": "stdout",
     "output_type": "stream",
     "text": [
      "[1, 2, 3, 4] 5 6\n"
     ]
    }
   ],
   "source": [
    "*a,b,c = [1,2,3,4,5,6]\n",
    "print(a,b,c)"
   ]
  },
  {
   "cell_type": "markdown",
   "id": "14d7c345",
   "metadata": {},
   "source": [
    "Packing values in a variable with the * operator can be handy when we need to collect the elements of a generator in a single variable without using the list() function. In the following examples, we use the * operator to pack the elements of a generator expression and a range object to a individual variable"
   ]
  },
  {
   "cell_type": "code",
   "execution_count": 73,
   "id": "75a15159",
   "metadata": {},
   "outputs": [
    {
     "data": {
      "text/plain": [
       "<generator object <genexpr> at 0x0000019DFF349EB0>"
      ]
     },
     "execution_count": 73,
     "metadata": {},
     "output_type": "execute_result"
    }
   ],
   "source": [
    "gen = (x**2 for x in range (10))\n",
    "gen"
   ]
  },
  {
   "cell_type": "code",
   "execution_count": 74,
   "id": "d175582f",
   "metadata": {},
   "outputs": [
    {
     "name": "stdout",
     "output_type": "stream",
     "text": [
      "[0, 1, 4, 9, 16, 25, 36, 49, 64, 81]\n"
     ]
    }
   ],
   "source": [
    "# We can unpack this generator object using * \n",
    "# IMPORTANT, We need trailling comma \n",
    "\n",
    "*gen_unpack, = gen \n",
    "print(gen_unpack)"
   ]
  },
  {
   "cell_type": "code",
   "execution_count": 75,
   "id": "7b14e85d",
   "metadata": {},
   "outputs": [
    {
     "data": {
      "text/plain": [
       "range(0, 10)"
      ]
     },
     "execution_count": 75,
     "metadata": {},
     "output_type": "execute_result"
    }
   ],
   "source": [
    "# We can do the same with range object as well \n",
    "ran = range(10)\n",
    "ran"
   ]
  },
  {
   "cell_type": "code",
   "execution_count": 76,
   "id": "32b207cc",
   "metadata": {},
   "outputs": [
    {
     "data": {
      "text/plain": [
       "[0, 1, 2, 3, 4, 5, 6, 7, 8, 9]"
      ]
     },
     "execution_count": 76,
     "metadata": {},
     "output_type": "execute_result"
    }
   ],
   "source": [
    "*range_unpack, = ran\n",
    "\n",
    "range_unpack"
   ]
  },
  {
   "cell_type": "code",
   "execution_count": 77,
   "id": "216bf2e1",
   "metadata": {},
   "outputs": [
    {
     "data": {
      "text/plain": [
       "[3, 4, 5]"
      ]
     },
     "execution_count": 77,
     "metadata": {},
     "output_type": "execute_result"
    }
   ],
   "source": [
    "args = [3, 6]\n",
    "list(range(*args))"
   ]
  },
  {
   "cell_type": "markdown",
   "id": "19f956ad",
   "metadata": {},
   "source": [
    "### Multiplication Opetaion on  lists "
   ]
  },
  {
   "cell_type": "code",
   "execution_count": 78,
   "id": "c85ef8fd",
   "metadata": {},
   "outputs": [
    {
     "name": "stdout",
     "output_type": "stream",
     "text": [
      "[1, 2, 3, 5, 7, 8, 9]\n",
      "[1, 2, 3, 5, 7, 8, 9, 1, 2, 3, 5, 7, 8, 9, 1, 2, 3, 5, 7, 8, 9]\n"
     ]
    }
   ],
   "source": [
    "# Multiplying a list by some number will add same elements in same list, in number of time, it is multiplied \n",
    "\n",
    "print(list_literal)\n",
    "print(list_literal*3)"
   ]
  },
  {
   "cell_type": "markdown",
   "id": "6b904f02",
   "metadata": {},
   "source": [
    "### Finding an element in list"
   ]
  },
  {
   "cell_type": "code",
   "execution_count": 79,
   "id": "dc5ee268",
   "metadata": {},
   "outputs": [
    {
     "name": "stdout",
     "output_type": "stream",
     "text": [
      "True\n"
     ]
    }
   ],
   "source": [
    "print(3 in list_literal)"
   ]
  },
  {
   "cell_type": "code",
   "execution_count": null,
   "id": "bbe0d7f6",
   "metadata": {},
   "outputs": [],
   "source": []
  },
  {
   "cell_type": "markdown",
   "id": "203e30d5",
   "metadata": {},
   "source": [
    "### Slicing\n",
    "\n",
    "**Important**   \n",
    "Slicing always returns shallow copy"
   ]
  },
  {
   "cell_type": "code",
   "execution_count": 80,
   "id": "4993cf3a",
   "metadata": {},
   "outputs": [
    {
     "data": {
      "text/plain": [
       "[1, 2, 3, 5, 7, 8, 9]"
      ]
     },
     "execution_count": 80,
     "metadata": {},
     "output_type": "execute_result"
    }
   ],
   "source": [
    "list_literal"
   ]
  },
  {
   "cell_type": "code",
   "execution_count": 81,
   "id": "dc777468",
   "metadata": {},
   "outputs": [
    {
     "data": {
      "text/plain": [
       "[1, 2, 3, 5, 7, 8, 9]"
      ]
     },
     "execution_count": 81,
     "metadata": {},
     "output_type": "execute_result"
    }
   ],
   "source": [
    "# To get all elements \n",
    "list_literal[:]"
   ]
  },
  {
   "cell_type": "code",
   "execution_count": 82,
   "id": "e1e40f35",
   "metadata": {},
   "outputs": [
    {
     "data": {
      "text/plain": [
       "[1, 2]"
      ]
     },
     "execution_count": 82,
     "metadata": {},
     "output_type": "execute_result"
    }
   ],
   "source": [
    "# Get first 2 elements \n",
    "list_literal[0:2]"
   ]
  },
  {
   "cell_type": "code",
   "execution_count": 83,
   "id": "16ff6ab1",
   "metadata": {},
   "outputs": [
    {
     "data": {
      "text/plain": [
       "[3, 5, 7, 8, 9]"
      ]
     },
     "execution_count": 83,
     "metadata": {},
     "output_type": "execute_result"
    }
   ],
   "source": [
    "# Skip first 2 and get remainning \n",
    "list_literal[2:]"
   ]
  },
  {
   "cell_type": "code",
   "execution_count": 84,
   "id": "093b9513",
   "metadata": {},
   "outputs": [
    {
     "data": {
      "text/plain": [
       "[3, 5, 7]"
      ]
     },
     "execution_count": 84,
     "metadata": {},
     "output_type": "execute_result"
    }
   ],
   "source": [
    "# Get index 2-4 elements , index 4  is inclusive and index 5 is exlusive\n",
    "list_literal[2:5]"
   ]
  },
  {
   "cell_type": "code",
   "execution_count": 85,
   "id": "e8367b89",
   "metadata": {},
   "outputs": [
    {
     "data": {
      "text/plain": [
       "[9]"
      ]
     },
     "execution_count": 85,
     "metadata": {},
     "output_type": "execute_result"
    }
   ],
   "source": [
    "# from -1 to last\n",
    "# negative indexing works also from left to right , if we place -1: in square brackets, python will \n",
    "# get last element of list from -1 and than try to get elements right at the -1 index which is out of \n",
    "# bound and than stop iterating\n",
    "list_literal[-1:]"
   ]
  },
  {
   "cell_type": "code",
   "execution_count": 86,
   "id": "abba8b8c",
   "metadata": {},
   "outputs": [
    {
     "data": {
      "text/plain": [
       "[7, 8, 9]"
      ]
     },
     "execution_count": 86,
     "metadata": {},
     "output_type": "execute_result"
    }
   ],
   "source": [
    "# from -3 to last (right last)\n",
    "# negative indexing works also from left to right , if we place -3: in square brackets, python will \n",
    "# get third last element of list from -3 index and than try to get elements at the right of the -3 index\n",
    "# and will get -2 index and -1 index and end. \n",
    "list_literal[-3:]"
   ]
  },
  {
   "cell_type": "code",
   "execution_count": 87,
   "id": "dc34b81e",
   "metadata": {},
   "outputs": [
    {
     "data": {
      "text/plain": [
       "[1, 2, 3, 5, 7, 8, 9]"
      ]
     },
     "execution_count": 87,
     "metadata": {},
     "output_type": "execute_result"
    }
   ],
   "source": [
    "list_literal[:]"
   ]
  },
  {
   "cell_type": "code",
   "execution_count": 88,
   "id": "f04edd27",
   "metadata": {},
   "outputs": [
    {
     "data": {
      "text/plain": [
       "[7, 8]"
      ]
     },
     "execution_count": 88,
     "metadata": {},
     "output_type": "execute_result"
    }
   ],
   "source": [
    "# Slicing will start working from the -3 index (element 7 in list) and than move right at the index of 6 (element 8 in list)\n",
    "# and stop execution\n",
    "\n",
    "list_literal[-3:6]"
   ]
  },
  {
   "cell_type": "code",
   "execution_count": 90,
   "id": "a9fc3f74",
   "metadata": {},
   "outputs": [
    {
     "data": {
      "text/plain": [
       "[]"
      ]
     },
     "execution_count": 90,
     "metadata": {},
     "output_type": "execute_result"
    }
   ],
   "source": [
    "# What is we try to move slicing from right to left by providing  -3:2 \n",
    "# To our intution it will start from the -3 index (element 7 in list) and move at right till index 2 (element 3 in list)\n",
    "list_literal[-3:2]\n",
    "\n",
    "# This is giving us empty list because this is not the right way move slicing from right to left"
   ]
  },
  {
   "cell_type": "code",
   "execution_count": 91,
   "id": "38719ab2",
   "metadata": {},
   "outputs": [
    {
     "data": {
      "text/plain": [
       "[7, 8]"
      ]
     },
     "execution_count": 91,
     "metadata": {},
     "output_type": "execute_result"
    }
   ],
   "source": [
    "list_literal[-3:-1]"
   ]
  },
  {
   "cell_type": "code",
   "execution_count": 93,
   "id": "c510c497",
   "metadata": {},
   "outputs": [
    {
     "data": {
      "text/plain": [
       "[2, 5]"
      ]
     },
     "execution_count": 93,
     "metadata": {},
     "output_type": "execute_result"
    }
   ],
   "source": [
    "# slicing with step of 2\n",
    "\n",
    "# Stepping means, python will skip 2 indexs and return element of index after jumping from 2 indexes \n",
    "list_literal[1:4:2]"
   ]
  },
  {
   "cell_type": "code",
   "execution_count": 94,
   "id": "550e85db",
   "metadata": {},
   "outputs": [
    {
     "data": {
      "text/plain": [
       "[2, 5]"
      ]
     },
     "execution_count": 94,
     "metadata": {},
     "output_type": "execute_result"
    }
   ],
   "source": [
    "list_literal[-6:4:2]"
   ]
  },
  {
   "cell_type": "code",
   "execution_count": 97,
   "id": "28a70822",
   "metadata": {},
   "outputs": [
    {
     "data": {
      "text/plain": [
       "[5, 2]"
      ]
     },
     "execution_count": 97,
     "metadata": {},
     "output_type": "execute_result"
    }
   ],
   "source": [
    "# Negative stepping stepping, move the start end from right to left \n",
    "# by default slicing moves from left to right either it's negative indexing or positive \n",
    "\n",
    "# Slicing starts from -4 index (element 5 in list), step -2 (move at right to left), skip two elements and return 0th index \n",
    "# (element 2 in list)\n",
    "list_literal[-4:0:-2]"
   ]
  },
  {
   "cell_type": "code",
   "execution_count": 98,
   "id": "6899f4d3",
   "metadata": {},
   "outputs": [
    {
     "data": {
      "text/plain": [
       "['geeks !']"
      ]
     },
     "execution_count": 98,
     "metadata": {},
     "output_type": "execute_result"
    }
   ],
   "source": [
    "List = ['Geeks', 4, 'geeks !']\n",
    "List[:1:-2]"
   ]
  },
  {
   "cell_type": "markdown",
   "id": "de8e1206",
   "metadata": {},
   "source": [
    "# Tuples\n",
    "\n",
    "Description: Tuple are immutable, which means we cannot add,delete in tuples, if we do something like that, the memory address of tuples will change that violates the mutability principle  \n",
    "**Topics to cover:**  \n",
    "1. Tuple Creation Methods: \n",
    "    - Formal notation \n",
    "    - Literal notation\n",
    "    - without any notation (Since all these variations are valid Python syntax, we can use any of them, depending on the situation. Arguably, the last syntax is more commonly used when it comes to unpacking in Python.)    \n",
    "    \n",
    "\n",
    "2. Methods on Tuples\n",
    "3. Access Values \n",
    "4. Delete Tuple \n",
    "5. Concat Tuple \n",
    "6. Slicing Tuple\n",
    "7. Singleton Tuple\n",
    "8. NamedTuples\n",
    "8. Theory of Tuples \n",
    "\n",
    "Discuss that we can create tuples, without brackets or tuple class, \n",
    "To create a tuple object, we don't need to use a pair of parentheses () as delimiters. "
   ]
  },
  {
   "cell_type": "markdown",
   "id": "c7a89e06",
   "metadata": {},
   "source": [
    "### Theory of Tuples\n",
    "\n",
    "Differences between tuples and lists:\n",
    "\n",
    "Mutability: Lists are mutable, which means you can add, remove, or modify elements from a list after it has been created. Tuples, on the other hand, are immutable, which means you cannot change the elements of a tuple once it has been created.\n",
    "\n",
    "Syntax: Lists are created using square brackets [] and commas, while tuples are created using parentheses () and commas.\n",
    "\n",
    "Performance: Tuples are generally faster than lists, especially when iterating over large datasets. This is because tuples are stored in a more compact format in memory.\n",
    "\n",
    "Advantages of using tuples:\n",
    "\n",
    "Immutable: Tuples are immutable, which means their values cannot be changed once they are created. This makes them useful for storing data that should not be modified, such as configuration settings.\n",
    "\n",
    "Faster: Tuples are faster than lists when it comes to indexing and iterating over large datasets. This is because tuples are stored in a more compact format in memory.\n",
    "\n",
    "\n",
    "Disadvantages of using tuples:\n",
    "\n",
    "Immutability: While immutability can be an advantage in some cases, it can also be a disadvantage. If you need to modify the values of a collection of data, then tuples are not a good choice.\n",
    "\n",
    "Limited functionality: Tuples are less versatile than lists because they cannot be modified. This means you cannot add or remove elements, sort them, or apply any other operation that changes the contents of the tuple."
   ]
  },
  {
   "cell_type": "markdown",
   "id": "5dcef9e7",
   "metadata": {},
   "source": [
    "### Tuple Creation"
   ]
  },
  {
   "cell_type": "code",
   "execution_count": 99,
   "id": "dd9e86e6",
   "metadata": {},
   "outputs": [
    {
     "name": "stdout",
     "output_type": "stream",
     "text": [
      "<class 'tuple'>\n"
     ]
    },
    {
     "data": {
      "text/plain": [
       "(1, 2, 3)"
      ]
     },
     "execution_count": 99,
     "metadata": {},
     "output_type": "execute_result"
    }
   ],
   "source": [
    "# TUPLE Creation 1\n",
    "\n",
    "tuple1 = tuple((1,2,3))\n",
    "print(type(tuple1))\n",
    "tuple1\n"
   ]
  },
  {
   "cell_type": "code",
   "execution_count": 100,
   "id": "dd6a5332",
   "metadata": {},
   "outputs": [
    {
     "name": "stdout",
     "output_type": "stream",
     "text": [
      "<class 'tuple'>\n"
     ]
    },
    {
     "data": {
      "text/plain": [
       "(1, 2, 3, 4, 5)"
      ]
     },
     "execution_count": 100,
     "metadata": {},
     "output_type": "execute_result"
    }
   ],
   "source": [
    "# TUPLE Creation 2 \n",
    "tuple2 = (1,2,3,4,5)\n",
    "print(type(tuple2))\n",
    "tuple2"
   ]
  },
  {
   "cell_type": "code",
   "execution_count": 101,
   "id": "9661f2b3",
   "metadata": {},
   "outputs": [
    {
     "name": "stdout",
     "output_type": "stream",
     "text": [
      "<class 'tuple'>\n"
     ]
    },
    {
     "data": {
      "text/plain": [
       "(1, 2, 3, 4, 5, 6, 7, 8)"
      ]
     },
     "execution_count": 101,
     "metadata": {},
     "output_type": "execute_result"
    }
   ],
   "source": [
    "# TUPLE Creation 3 \n",
    "tuple3 = 1,2,3,4,5,6,7,8\n",
    "print(type(tuple3))\n",
    "tuple3"
   ]
  },
  {
   "cell_type": "code",
   "execution_count": 103,
   "id": "144e4b59",
   "metadata": {},
   "outputs": [
    {
     "data": {
      "text/plain": [
       "4"
      ]
     },
     "execution_count": 103,
     "metadata": {},
     "output_type": "execute_result"
    }
   ],
   "source": [
    "# TUPLE CREATION 4\n",
    "# Let's say we want to create a tuple of single element \n",
    "\n",
    "\n",
    "# We cannot do this, because pair of round brackets are considered as mathematical operations and python will remove these \n",
    "# brackets and return the single element inside \n",
    "tuple4 = (4)\n",
    "tuple4"
   ]
  },
  {
   "cell_type": "code",
   "execution_count": 107,
   "id": "018d1c2e",
   "metadata": {},
   "outputs": [
    {
     "name": "stdout",
     "output_type": "stream",
     "text": [
      "(4,)\n",
      "<class 'tuple'>\n"
     ]
    }
   ],
   "source": [
    "# Tuple Creation 4 - Continue \n",
    "# We need to put \",\" after the element in pair of round brackets to tell python that it is as tuple not just a number \n",
    "tuple4 = (4,)\n",
    "print(tuple4)\n",
    "print(type(tuple4))"
   ]
  },
  {
   "cell_type": "code",
   "execution_count": 102,
   "id": "a4abc8e9",
   "metadata": {},
   "outputs": [
    {
     "data": {
      "text/plain": [
       "(1, 2, 3, 'Khan', 0.9, ['Pakistan'])"
      ]
     },
     "execution_count": 102,
     "metadata": {},
     "output_type": "execute_result"
    }
   ],
   "source": [
    "# we can store multiple data types in a tuple \n",
    "tuple4 = 1,2,3,\"Khan\",0.90,[\"Pakistan\"]\n",
    "tuple4"
   ]
  },
  {
   "cell_type": "markdown",
   "id": "7a4a539a",
   "metadata": {},
   "source": [
    "### Methods\n",
    "1. min()\n",
    "2. max()\n",
    "3. len()"
   ]
  },
  {
   "cell_type": "code",
   "execution_count": null,
   "id": "4605c327",
   "metadata": {},
   "outputs": [],
   "source": [
    "min(tuple3)"
   ]
  },
  {
   "cell_type": "code",
   "execution_count": null,
   "id": "54c16dfe",
   "metadata": {},
   "outputs": [],
   "source": [
    "max(tuple3)"
   ]
  },
  {
   "cell_type": "code",
   "execution_count": null,
   "id": "ddccf54e",
   "metadata": {},
   "outputs": [],
   "source": [
    "len(tuple1)"
   ]
  },
  {
   "cell_type": "markdown",
   "id": "1a2a12cc",
   "metadata": {},
   "source": [
    "### Accessing Tuple elements through indexing and unpacking *"
   ]
  },
  {
   "cell_type": "code",
   "execution_count": 108,
   "id": "6df37b94",
   "metadata": {},
   "outputs": [
    {
     "data": {
      "text/plain": [
       "1"
      ]
     },
     "execution_count": 108,
     "metadata": {},
     "output_type": "execute_result"
    }
   ],
   "source": [
    "tuple3[0]"
   ]
  },
  {
   "cell_type": "code",
   "execution_count": 109,
   "id": "8753fef5",
   "metadata": {},
   "outputs": [
    {
     "data": {
      "text/plain": [
       "1"
      ]
     },
     "execution_count": 109,
     "metadata": {},
     "output_type": "execute_result"
    }
   ],
   "source": [
    "tuple3[0]"
   ]
  },
  {
   "cell_type": "code",
   "execution_count": 110,
   "id": "77005a6e",
   "metadata": {},
   "outputs": [],
   "source": [
    "first , *others = tuple3"
   ]
  },
  {
   "cell_type": "code",
   "execution_count": 111,
   "id": "4eb9c16b",
   "metadata": {},
   "outputs": [
    {
     "name": "stdout",
     "output_type": "stream",
     "text": [
      "1\n",
      "[2, 3, 4, 5, 6, 7, 8]\n"
     ]
    }
   ],
   "source": [
    "print(first )\n",
    "print(others)"
   ]
  },
  {
   "cell_type": "code",
   "execution_count": 114,
   "id": "90e52d9e",
   "metadata": {},
   "outputs": [
    {
     "name": "stdout",
     "output_type": "stream",
     "text": [
      "1\n",
      "2\n",
      "[3, 4, 5, 6, 7, 8]\n"
     ]
    }
   ],
   "source": [
    "first , second , *oth = tuple3\n",
    "print(first)\n",
    "print(second)\n",
    "print(oth)"
   ]
  },
  {
   "cell_type": "code",
   "execution_count": 112,
   "id": "f817caf1",
   "metadata": {},
   "outputs": [
    {
     "name": "stdout",
     "output_type": "stream",
     "text": [
      "OK6\n"
     ]
    }
   ],
   "source": [
    "print(f\"OK{tuple3[5]}\")"
   ]
  },
  {
   "cell_type": "markdown",
   "id": "4a697ba8",
   "metadata": {},
   "source": [
    "### Deleting a tuple"
   ]
  },
  {
   "cell_type": "code",
   "execution_count": 115,
   "id": "2d7eaa7f",
   "metadata": {},
   "outputs": [
    {
     "ename": "NameError",
     "evalue": "name 'tuple4' is not defined",
     "output_type": "error",
     "traceback": [
      "\u001b[1;31m---------------------------------------------------------------------------\u001b[0m",
      "\u001b[1;31mNameError\u001b[0m                                 Traceback (most recent call last)",
      "\u001b[1;32m~\\AppData\\Local\\Temp\\ipykernel_13184\\515673541.py\u001b[0m in \u001b[0;36m<module>\u001b[1;34m\u001b[0m\n\u001b[0;32m      1\u001b[0m \u001b[1;32mdel\u001b[0m \u001b[0mtuple4\u001b[0m\u001b[1;33m\u001b[0m\u001b[1;33m\u001b[0m\u001b[0m\n\u001b[1;32m----> 2\u001b[1;33m \u001b[0mtuple4\u001b[0m\u001b[1;33m\u001b[0m\u001b[1;33m\u001b[0m\u001b[0m\n\u001b[0m",
      "\u001b[1;31mNameError\u001b[0m: name 'tuple4' is not defined"
     ]
    }
   ],
   "source": [
    "del tuple4\n",
    "tuple4"
   ]
  },
  {
   "cell_type": "markdown",
   "id": "a4c8ab55",
   "metadata": {},
   "source": [
    "### Concat tuples "
   ]
  },
  {
   "cell_type": "code",
   "execution_count": 116,
   "id": "6fa804a9",
   "metadata": {},
   "outputs": [
    {
     "data": {
      "text/plain": [
       "(1, 2, 3, 1, 2, 3, 4, 5)"
      ]
     },
     "execution_count": 116,
     "metadata": {},
     "output_type": "execute_result"
    }
   ],
   "source": [
    "tuple4 = tuple1+tuple2\n",
    "tuple4\n",
    "\n",
    "# We know that tuple are immutable than how we can add two tuples, \n",
    "# This is beacuse concept of immutability is not about altering the object but , if reference id / memory address of an object \n",
    "# changes on altering it's value, than it is called as immutable object. "
   ]
  },
  {
   "cell_type": "markdown",
   "id": "5f49e62a",
   "metadata": {},
   "source": [
    "### Slicing on tuples \n",
    "Slicing on tuples works exactly same as lists "
   ]
  },
  {
   "cell_type": "code",
   "execution_count": 117,
   "id": "2e3802ce",
   "metadata": {},
   "outputs": [
    {
     "data": {
      "text/plain": [
       "(1, 2, 3, 1, 2)"
      ]
     },
     "execution_count": 117,
     "metadata": {},
     "output_type": "execute_result"
    }
   ],
   "source": [
    "tuple4[0:5]"
   ]
  },
  {
   "cell_type": "code",
   "execution_count": 118,
   "id": "1ff70dab",
   "metadata": {},
   "outputs": [
    {
     "data": {
      "text/plain": [
       "(5, 4)"
      ]
     },
     "execution_count": 118,
     "metadata": {},
     "output_type": "execute_result"
    }
   ],
   "source": [
    "tuple4[-1:5:-1]"
   ]
  },
  {
   "cell_type": "code",
   "execution_count": 119,
   "id": "5c3513f6",
   "metadata": {},
   "outputs": [
    {
     "data": {
      "text/plain": [
       "2"
      ]
     },
     "execution_count": 119,
     "metadata": {},
     "output_type": "execute_result"
    }
   ],
   "source": [
    "tuple5 = 1,2\n",
    "len(tuple5)"
   ]
  },
  {
   "cell_type": "markdown",
   "id": "009afc15",
   "metadata": {},
   "source": [
    "### Named Tuples \n",
    "In the below example, we define a named tuple called Point with two fields x and y. We then create an instance of the named tuple by passing in values for the x and y fields. We can access these fields using the named fields p.x and p.y, making the code more readable and self-documenting.\n",
    "\n",
    "Named tuples can be useful in cases where we want to represent a data structure with multiple fields and need more readable and self-documenting code. They are immutable, just like regular tuples."
   ]
  },
  {
   "cell_type": "code",
   "execution_count": null,
   "id": "e1ccbaf4",
   "metadata": {},
   "outputs": [],
   "source": [
    "from collections import namedtuple\n",
    "\n",
    "# define a named tuple\n",
    "Point = namedtuple('Point', ['x', 'y'])\n",
    "\n",
    "# create an instance of the named tuple\n",
    "p = Point(1, 2)\n",
    "\n",
    "# access elements using the named fields\n",
    "print(p.x) # 1\n",
    "print(p.y) # 2"
   ]
  },
  {
   "cell_type": "markdown",
   "id": "7d24e8f1",
   "metadata": {},
   "source": [
    "\n"
   ]
  },
  {
   "cell_type": "markdown",
   "id": "943f3933",
   "metadata": {},
   "source": [
    "# Dictionaries\n",
    "\n",
    "A key value pair data structure in python is called as \"dictionary\", some other languages also called it \"map\" (DART), \"object\" (JavaScript). \n",
    "dictionaries are unordered, mutable data structures that store key-value pairs. They are also known as associative arrays or hash maps in other programming languages. Dictionaries are enclosed in curly braces {}, and each key-value pair is separated by a colon :.\n",
    "discuss .format vs f string her\n",
    "\n",
    "\n",
    "**Topics to explore in Dictionaries:**   \n",
    "1- Creation of Dictionary   \n",
    "2- Accessing Dictionary values  \n",
    "3- Dictionary Keys vs List indices   \n",
    "4- Restrictions on Dictionary Keys  \n",
    "5- Restrictions on Dictionary Values  \n",
    "6- How to add values in the dictionary  \n",
    "7- Adding multiple key value pairs in the dictionary  \n",
    "8- How to use for loops in dictionary   \n",
    "9- Deleting a key value pair from dictionary  \n",
    "10- Clearing the whole dictionary  \n",
    "11- Built-in Functions and operators      \n",
    "\n",
    "\n",
    "**IMPORTANT**   \n",
    "an object of any immutable type can be used as a dictionary \"key\", So it means we can use integers, floats, strings, even `tuples` and `boolean` can be used as the keys in the dictionaries,  \n",
    "We can even use built-in objects like types and functions like `int`, `str`, `float`, etc "
   ]
  },
  {
   "cell_type": "markdown",
   "id": "2e1735bd",
   "metadata": {},
   "source": [
    "### 1- Creation of Dictionary\n",
    "\n",
    "There are basically two ways to create a dictionary  \n",
    "1- Through literal meaning (using {})   \n",
    "2- Through \"dict\" object (passing list of tuples to `dict` object)"
   ]
  },
  {
   "cell_type": "code",
   "execution_count": 74,
   "id": "b95dc40a",
   "metadata": {},
   "outputs": [
    {
     "data": {
      "text/plain": [
       "{'name': 'Muhammad Shahmeer Khan',\n",
       " 'age': '24',\n",
       " 'email': 'shahmirkhan519@gmail.com',\n",
       " ('ok',): 'ok',\n",
       " True: 'Fine',\n",
       " int: 5,\n",
       " float: 9.0,\n",
       " str: 'You are beautiful'}"
      ]
     },
     "execution_count": 74,
     "metadata": {},
     "output_type": "execute_result"
    }
   ],
   "source": [
    "dictionary_1 = {\"name\":\"Muhammad Shahmeer Khan\", \"age\": \"24\", \"email\":\"shahmirkhan519@gmail.com\", (\"ok\",):\"ok\", \n",
    "                True:\"Fine\", int:5,float:9.0 , str:\"You are beautiful\"}\n",
    "\n",
    "dictionary_1"
   ]
  },
  {
   "cell_type": "code",
   "execution_count": 63,
   "id": "462b6a27",
   "metadata": {},
   "outputs": [
    {
     "data": {
      "text/plain": [
       "{'name': 'Muhammad Shahmeer Khan',\n",
       " 'age': '24',\n",
       " 'email': 'shahmirkhan519@gmail.com'}"
      ]
     },
     "execution_count": 63,
     "metadata": {},
     "output_type": "execute_result"
    }
   ],
   "source": [
    "dictionary_2 = dict([(\"name\",\"Muhammad Shahmeer Khan\"), (\"age\", \"24\"),( \"email\",\"shahmirkhan519@gmail.com\") ])\n",
    "\n",
    "dictionary_2"
   ]
  },
  {
   "cell_type": "markdown",
   "id": "2d1d482e",
   "metadata": {},
   "source": [
    "### 2- Accessing values of dictionary\n",
    "\n",
    "There are 2 ways to access value of a key through the dictionary  \n",
    "1- Through Python Syntax  (There's an issue with this method) \n",
    "2- Through get method of dictionary  "
   ]
  },
  {
   "cell_type": "code",
   "execution_count": 64,
   "id": "0020b267",
   "metadata": {},
   "outputs": [
    {
     "data": {
      "text/plain": [
       "'Muhammad Shahmeer Khan'"
      ]
     },
     "execution_count": 64,
     "metadata": {},
     "output_type": "execute_result"
    }
   ],
   "source": [
    "# Method 1 \n",
    "\n",
    "name = dictionary_1[\"name\"]\n",
    "name\n"
   ]
  },
  {
   "cell_type": "code",
   "execution_count": 65,
   "id": "f05baf10",
   "metadata": {},
   "outputs": [
    {
     "ename": "KeyError",
     "evalue": "'country'",
     "output_type": "error",
     "traceback": [
      "\u001b[1;31m---------------------------------------------------------------------------\u001b[0m",
      "\u001b[1;31mKeyError\u001b[0m                                  Traceback (most recent call last)",
      "\u001b[1;32m~\\AppData\\Local\\Temp\\ipykernel_20376\\875551365.py\u001b[0m in \u001b[0;36m<module>\u001b[1;34m\u001b[0m\n\u001b[0;32m      4\u001b[0m \u001b[1;31m# Let's try it out with a key that does not exist, let's say \"country\"\u001b[0m\u001b[1;33m\u001b[0m\u001b[1;33m\u001b[0m\u001b[0m\n\u001b[0;32m      5\u001b[0m \u001b[1;33m\u001b[0m\u001b[0m\n\u001b[1;32m----> 6\u001b[1;33m \u001b[0mcountry\u001b[0m \u001b[1;33m=\u001b[0m \u001b[0mdictionary_1\u001b[0m\u001b[1;33m[\u001b[0m\u001b[1;34m\"country\"\u001b[0m\u001b[1;33m]\u001b[0m\u001b[1;33m\u001b[0m\u001b[1;33m\u001b[0m\u001b[0m\n\u001b[0m\u001b[0;32m      7\u001b[0m \u001b[0mcountry\u001b[0m\u001b[1;33m\u001b[0m\u001b[1;33m\u001b[0m\u001b[0m\n",
      "\u001b[1;31mKeyError\u001b[0m: 'country'"
     ]
    }
   ],
   "source": [
    "# ISSUE\n",
    "# What if \"name\" key doesnot exists? \n",
    "# if \"name\" key does not exists then Python will give an error of \"key not found error\"\n",
    "# Let's try it out with a key that does not exist, let's say \"country\"\n",
    "\n",
    "country = dictionary_1[\"country\"]\n",
    "country\n"
   ]
  },
  {
   "cell_type": "code",
   "execution_count": 67,
   "id": "dbfb5419",
   "metadata": {},
   "outputs": [
    {
     "data": {
      "text/plain": [
       "''"
      ]
     },
     "execution_count": 67,
     "metadata": {},
     "output_type": "execute_result"
    }
   ],
   "source": [
    "# To fix the issue of non existing keys, we have method of get \n",
    "# METHOD 2\n",
    "\n",
    "country = dictionary_1.get(\"country\", \"\")\n",
    "country\n",
    "\n",
    "# If key doesnot exists, it will give us second parameter in return of get method, we can pass None, or anything we want"
   ]
  },
  {
   "cell_type": "markdown",
   "id": "b243232e",
   "metadata": {},
   "source": [
    "### 3- Dictionary Keys vs List indices   \n",
    "\n",
    "It is a theoretical part  \n",
    "List works on the indices, that are integers, whenever we want to access any value of list, we use it's index like 0,1,2...  \n",
    "but for the dictionaries we use \"key\" to access it's value  \n",
    "\"key\" can be of any data type of python that is immutable, It can be string, float, integers and even \"tuples\" "
   ]
  },
  {
   "cell_type": "markdown",
   "id": "fe5c5c97",
   "metadata": {},
   "source": [
    "### 4- Restrictions on Dictionary Keys\n",
    "It is a theoretical part\n",
    "\n",
    "1- we can use any immutable type as the \"key\" of dictionary like, integers, floats, strings, boolean values, tuples, even builtin functions as well like, int, float, str, bool. But we cannot use mutable types like, lists, dictionary etc\n",
    "\n",
    "2- we cannot add same key twice in a dictionary, if we try to do that, python will replace the value of existing key with the new value "
   ]
  },
  {
   "cell_type": "markdown",
   "id": "8632007f",
   "metadata": {},
   "source": [
    "### 5- Restrictions on Dictionary Values \n",
    "It is a theoretical part\n",
    "\n",
    "By contrast, there are no restrictions on dictionary values. Literally none at all. A dictionary value can be any type of object Python supports, including mutable types like lists and dictionaries, and user-defined objects, which you will learn about in upcoming tutorials.\n",
    "\n",
    "There is also no restriction against a particular value appearing in a dictionary multiple times"
   ]
  },
  {
   "cell_type": "markdown",
   "id": "4c4c6477",
   "metadata": {},
   "source": [
    "### 6- How to add values in the dictionary "
   ]
  },
  {
   "cell_type": "code",
   "execution_count": 75,
   "id": "83ff084c",
   "metadata": {
    "scrolled": true
   },
   "outputs": [
    {
     "data": {
      "text/plain": [
       "{'name': 'Muhammad Shahmeer Khan',\n",
       " 'age': '24',\n",
       " 'email': 'shahmirkhan519@gmail.com',\n",
       " ('ok',): 'ok',\n",
       " True: 'Fine',\n",
       " int: 5,\n",
       " float: 9.0,\n",
       " str: 'You are beautiful',\n",
       " 'country': 'United States of America'}"
      ]
     },
     "execution_count": 75,
     "metadata": {},
     "output_type": "execute_result"
    }
   ],
   "source": [
    "# Adding a new key value pair in dictionary \n",
    "\n",
    "dictionary_1[\"country\"] =\"United States of America\"\n",
    "\n",
    "dictionary_1"
   ]
  },
  {
   "cell_type": "markdown",
   "id": "4500c752",
   "metadata": {},
   "source": [
    "### 7- Adding multiple key value pairs in the dictionary  \n",
    "\n",
    "we use `update` method to add multiple key value pairs in the existing dictionary\n",
    "\n",
    "There are other 2 interesting method `|` pipe symbol and `|=` symbol   \n",
    "\n",
    "- You can use the dictionary merge `|` operator, represented by the pipe character, to merge two dictionaries and return a new dictionary object.\n",
    "If a key exists in both dictionaries, then the value from the second dictionary, or right operand, is the value taken  \n",
    "\n",
    "\n",
    "\n",
    "- You can use the dictionary update `|=` operator, represented by the pipe and equal sign characters, to update a dictionary in-place with the given dictionary or values. Just like the merge `|` operator, if a key exists in both dictionaries, then the update `|=` operator takes the value from the right operand.\n"
   ]
  },
  {
   "cell_type": "code",
   "execution_count": 76,
   "id": "962124e8",
   "metadata": {},
   "outputs": [],
   "source": [
    "dictionary_3 = {\"laptop\":\"ASUS\", \"mouse\":\"LOGITECH\"}\n",
    "\n",
    "dictionary_1.update(dictionary_3)"
   ]
  },
  {
   "cell_type": "code",
   "execution_count": 77,
   "id": "176bdeec",
   "metadata": {
    "scrolled": true
   },
   "outputs": [
    {
     "data": {
      "text/plain": [
       "{'name': 'Muhammad Shahmeer Khan',\n",
       " 'age': '24',\n",
       " 'email': 'shahmirkhan519@gmail.com',\n",
       " ('ok',): 'ok',\n",
       " True: 'Fine',\n",
       " int: 5,\n",
       " float: 9.0,\n",
       " str: 'You are beautiful',\n",
       " 'country': 'United States of America',\n",
       " 'laptop': 'ASUS',\n",
       " 'mouse': 'LOGITECH'}"
      ]
     },
     "execution_count": 77,
     "metadata": {},
     "output_type": "execute_result"
    }
   ],
   "source": [
    "dictionary_1"
   ]
  },
  {
   "cell_type": "code",
   "execution_count": 80,
   "id": "fe857ca0",
   "metadata": {},
   "outputs": [
    {
     "data": {
      "text/plain": [
       "{'name': 'Muhammad Shahmeer Khan',\n",
       " 'age': '24',\n",
       " 'email': 'shahmirkhan519@gmail.com',\n",
       " ('ok',): 'ok',\n",
       " True: 'Fine',\n",
       " int: 5,\n",
       " float: 9.0,\n",
       " str: 'You are beautiful',\n",
       " 'country': 'United States of America',\n",
       " 'laptop': 'ASUS',\n",
       " 'mouse': 'LOGITECH',\n",
       " 'processor': 'INTEL',\n",
       " 'motherboard': 'INTEL'}"
      ]
     },
     "execution_count": 80,
     "metadata": {},
     "output_type": "execute_result"
    }
   ],
   "source": [
    "dictionary_4 = {\"processor\":\"INTEL\", \"motherboard\":\"INTEL\", }\n",
    "\n",
    "updated_dictionary = dictionary_1 | dictionary_4\n",
    "updated_dictionary"
   ]
  },
  {
   "cell_type": "code",
   "execution_count": 81,
   "id": "3f897ecf",
   "metadata": {
    "scrolled": true
   },
   "outputs": [
    {
     "data": {
      "text/plain": [
       "{'name': 'Muhammad Shahmeer Khan',\n",
       " 'age': '24',\n",
       " 'email': 'shahmirkhan519@gmail.com',\n",
       " ('ok',): 'ok',\n",
       " True: 'Fine',\n",
       " int: 5,\n",
       " float: 9.0,\n",
       " str: 'You are beautiful',\n",
       " 'country': 'United States of America',\n",
       " 'laptop': 'ASUS',\n",
       " 'mouse': 'LOGITECH',\n",
       " 'processor': 'INTEL',\n",
       " 'motherboard': 'INTEL'}"
      ]
     },
     "execution_count": 81,
     "metadata": {},
     "output_type": "execute_result"
    }
   ],
   "source": [
    "dictionary_1 |= dictionary_4 \n",
    "\n",
    "\n",
    "dictionary_1"
   ]
  },
  {
   "cell_type": "markdown",
   "id": "86aa010e",
   "metadata": {},
   "source": [
    "### 8- How to use for loops in dictionary  \n"
   ]
  },
  {
   "cell_type": "code",
   "execution_count": 84,
   "id": "2519e652",
   "metadata": {},
   "outputs": [
    {
     "name": "stdout",
     "output_type": "stream",
     "text": [
      "name\n",
      "age\n",
      "email\n",
      "('ok',)\n",
      "True\n",
      "<class 'int'>\n",
      "<class 'float'>\n",
      "<class 'str'>\n",
      "country\n",
      "laptop\n",
      "mouse\n",
      "processor\n",
      "motherboard\n"
     ]
    }
   ],
   "source": [
    "for i in dictionary_1:\n",
    "    print(i)\n",
    "    \n",
    "    \n",
    "# This will give us all the keys "
   ]
  },
  {
   "cell_type": "code",
   "execution_count": 87,
   "id": "15de03ba",
   "metadata": {},
   "outputs": [
    {
     "name": "stdout",
     "output_type": "stream",
     "text": [
      "name Muhammad Shahmeer Khan\n",
      "age 24\n",
      "email shahmirkhan519@gmail.com\n",
      "('ok',) ok\n",
      "True Fine\n",
      "<class 'int'> 5\n",
      "<class 'float'> 9.0\n",
      "<class 'str'> You are beautiful\n",
      "country United States of America\n",
      "laptop ASUS\n",
      "mouse LOGITECH\n",
      "processor INTEL\n",
      "motherboard INTEL\n"
     ]
    }
   ],
   "source": [
    "for key , value in dictionary_1.items():\n",
    "    print(key, value )\n",
    "    \n",
    "# items() function will give us key and values"
   ]
  },
  {
   "cell_type": "code",
   "execution_count": 90,
   "id": "26432c5c",
   "metadata": {},
   "outputs": [
    {
     "name": "stdout",
     "output_type": "stream",
     "text": [
      "name\n",
      "age\n",
      "email\n",
      "('ok',)\n",
      "True\n",
      "<class 'int'>\n",
      "<class 'float'>\n",
      "<class 'str'>\n",
      "country\n",
      "laptop\n",
      "mouse\n",
      "processor\n",
      "motherboard\n"
     ]
    }
   ],
   "source": [
    "for key in dictionary_1.keys():\n",
    "    print(key)\n",
    "    \n",
    "# Keys function will give us only keys\n"
   ]
  },
  {
   "cell_type": "code",
   "execution_count": 91,
   "id": "1f66d5cf",
   "metadata": {
    "scrolled": true
   },
   "outputs": [
    {
     "name": "stdout",
     "output_type": "stream",
     "text": [
      "Muhammad Shahmeer Khan\n",
      "24\n",
      "shahmirkhan519@gmail.com\n",
      "ok\n",
      "Fine\n",
      "5\n",
      "9.0\n",
      "You are beautiful\n",
      "United States of America\n",
      "ASUS\n",
      "LOGITECH\n",
      "INTEL\n",
      "INTEL\n"
     ]
    }
   ],
   "source": [
    "for value in dictionary_1.values():\n",
    "    print(value)\n",
    "    \n",
    "# values function will give us only values "
   ]
  },
  {
   "cell_type": "markdown",
   "id": "13642b05",
   "metadata": {},
   "source": [
    "### 9- Deleting a key value pair from dictionary \n",
    "\n",
    "We have builtin 2 functions to delete a key value pair from the dictionary \"pop()\" function and \"popitem()\" function\n",
    "\n",
    "pop function will remove the key which is passed as a parameter and returns it's value and popitem() funciton deletes the last key value pair and returns it's key value pair that has been removed "
   ]
  },
  {
   "cell_type": "code",
   "execution_count": 93,
   "id": "045af737",
   "metadata": {},
   "outputs": [
    {
     "data": {
      "text/plain": [
       "'INTEL'"
      ]
     },
     "execution_count": 93,
     "metadata": {},
     "output_type": "execute_result"
    }
   ],
   "source": [
    "value = dictionary_4.pop(\"processor\")\n",
    "value "
   ]
  },
  {
   "cell_type": "code",
   "execution_count": 94,
   "id": "0cff9dce",
   "metadata": {},
   "outputs": [
    {
     "data": {
      "text/plain": [
       "{'motherboard': 'INTEL'}"
      ]
     },
     "execution_count": 94,
     "metadata": {},
     "output_type": "execute_result"
    }
   ],
   "source": [
    "dictionary_4"
   ]
  },
  {
   "cell_type": "code",
   "execution_count": 96,
   "id": "2932e073",
   "metadata": {},
   "outputs": [],
   "source": [
    "value = dictionary_3.popitem()\n"
   ]
  },
  {
   "cell_type": "code",
   "execution_count": 97,
   "id": "6bcb3e48",
   "metadata": {},
   "outputs": [
    {
     "data": {
      "text/plain": [
       "('mouse', 'LOGITECH')"
      ]
     },
     "execution_count": 97,
     "metadata": {},
     "output_type": "execute_result"
    }
   ],
   "source": [
    "value"
   ]
  },
  {
   "cell_type": "markdown",
   "id": "7334cc73",
   "metadata": {},
   "source": [
    "### 10- Clearing the whole dictionary\n",
    "\n",
    "clear() function clears or empty the dictionary "
   ]
  },
  {
   "cell_type": "code",
   "execution_count": 98,
   "id": "724cab1a",
   "metadata": {
    "scrolled": true
   },
   "outputs": [
    {
     "data": {
      "text/plain": [
       "{}"
      ]
     },
     "execution_count": 98,
     "metadata": {},
     "output_type": "execute_result"
    }
   ],
   "source": [
    "dictionary_4.clear()\n",
    "\n",
    "dictionary_4"
   ]
  },
  {
   "cell_type": "markdown",
   "id": "068dc1db",
   "metadata": {},
   "source": [
    "### 11- Built-in Functions and operators\n",
    "\n",
    "**FUNCTIONS:**\n",
    "- Accessing keys and values \n",
    "    - get() \n",
    "    - keys()\n",
    "    - values()\n",
    "    - items() \n",
    "- Update\n",
    "    - update() \n",
    "- Clear\n",
    "    - clear() \n",
    "- Removing elements\n",
    "    - pop()\n",
    "    - popitem()\n",
    "\n",
    "**OPERATORS:** \n",
    "- |\n",
    "- |="
   ]
  },
  {
   "cell_type": "code",
   "execution_count": null,
   "id": "b91f172d",
   "metadata": {},
   "outputs": [],
   "source": []
  },
  {
   "cell_type": "markdown",
   "id": "5efb08e0",
   "metadata": {},
   "source": [
    "# Sets\n",
    "\n",
    "**DEFINITIONS**: Collection of unordered unique elements \n",
    "\n",
    "The major advantage of using a set, as opposed to a list, is that it has a highly optimized method for checking whether a specific element is contained in the set. This is based on a data structure known as a hash table. Since sets are unordered, we cannot access items using indexes as we do in lists.\n",
    "\n",
    "A set is mutable, but the elements contained in the set must be of an immutable type like, int, float, strings, bool, tuples, NOT lists and dictionaries \n",
    "\n",
    "\n",
    "1- Creation of Set   \n",
    "2- Accessing value  \n",
    "3- Adding value in Set  \n",
    "4- Set opeations   \n",
    "5- Remove values from set  \n",
    "6- loop on set   \n",
    "7- builtin functions  "
   ]
  },
  {
   "cell_type": "markdown",
   "id": "bb57087f",
   "metadata": {},
   "source": [
    "### 1- Creation of Set \n",
    "\n",
    "There are two ways to create a set:   \n",
    "1- literal syntax  \n",
    "2- set() object  \n",
    "\n",
    "IMPORTANT:  \n",
    "we cannot intialize an empty set using `set_1 = {}` because Python will interpet it as dictionary, but  \n",
    "we can initialize an empty set using `set_1 = set()` "
   ]
  },
  {
   "cell_type": "code",
   "execution_count": 112,
   "id": "7bd94180",
   "metadata": {},
   "outputs": [],
   "source": [
    "# METHOD 1\n",
    "\n",
    "set_1 = {1,2,3,\"OK\"}"
   ]
  },
  {
   "cell_type": "code",
   "execution_count": 107,
   "id": "45fd8183",
   "metadata": {},
   "outputs": [
    {
     "data": {
      "text/plain": [
       "{1, 2, 3, 'OK'}"
      ]
     },
     "execution_count": 107,
     "metadata": {},
     "output_type": "execute_result"
    }
   ],
   "source": [
    "set_1"
   ]
  },
  {
   "cell_type": "code",
   "execution_count": 108,
   "id": "be32c640",
   "metadata": {},
   "outputs": [
    {
     "data": {
      "text/plain": [
       "{1, 2, 3}"
      ]
     },
     "execution_count": 108,
     "metadata": {},
     "output_type": "execute_result"
    }
   ],
   "source": [
    "# METHOD 2\n",
    "\n",
    "set_2 = set({1,2,3})\n",
    "\n",
    "set_2"
   ]
  },
  {
   "cell_type": "code",
   "execution_count": 33,
   "id": "8d290b51",
   "metadata": {},
   "outputs": [
    {
     "data": {
      "text/plain": [
       "{1, 2, 3, 4}"
      ]
     },
     "execution_count": 33,
     "metadata": {},
     "output_type": "execute_result"
    }
   ],
   "source": [
    "# METHOD 2\n",
    "\n",
    "set_3 = set((1,2,3,4))\n",
    "\n",
    "set_3"
   ]
  },
  {
   "cell_type": "code",
   "execution_count": 34,
   "id": "26188e4d",
   "metadata": {},
   "outputs": [
    {
     "data": {
      "text/plain": [
       "{1, 2, 3, 4}"
      ]
     },
     "execution_count": 34,
     "metadata": {},
     "output_type": "execute_result"
    }
   ],
   "source": [
    "# METHOD 2 \n",
    "\n",
    "set_4 = set([1,2,3,4])\n",
    "\n",
    "set_4"
   ]
  },
  {
   "cell_type": "markdown",
   "id": "73c13417",
   "metadata": {},
   "source": [
    "### 2- Accessing value \n",
    "\n",
    "It is a/ theoretical part\n",
    "\n",
    "we cannot access a value of set using indices or anything because by definition, set is unordered collection of unique objects"
   ]
  },
  {
   "cell_type": "markdown",
   "id": "841c583b",
   "metadata": {},
   "source": [
    "### 3- Adding value in Set\n",
    "There are 3 methods to add elements in a Set   \n",
    "1- add() funtion to add a single value in a set  \n",
    "2- update() function to add multiple values in one time in Set.  \n",
    "3- |= symbol"
   ]
  },
  {
   "cell_type": "code",
   "execution_count": 8,
   "id": "cc88b25e",
   "metadata": {},
   "outputs": [
    {
     "data": {
      "text/plain": [
       "{1, 2, 3, 4, 99}"
      ]
     },
     "execution_count": 8,
     "metadata": {},
     "output_type": "execute_result"
    }
   ],
   "source": [
    "set_3.add(99)\n",
    "set_3"
   ]
  },
  {
   "cell_type": "code",
   "execution_count": 36,
   "id": "964a66f1",
   "metadata": {},
   "outputs": [
    {
     "data": {
      "text/plain": [
       "{1, 2, 3, 4, 96, 97, 98, 99, 100}"
      ]
     },
     "execution_count": 36,
     "metadata": {},
     "output_type": "execute_result"
    }
   ],
   "source": [
    "set_4.update((100,99,98,97,96))\n",
    "set_4"
   ]
  },
  {
   "cell_type": "code",
   "execution_count": 37,
   "id": "30c41ef6",
   "metadata": {},
   "outputs": [
    {
     "name": "stdout",
     "output_type": "stream",
     "text": [
      "{1, 2, 3, 4}\n"
     ]
    },
    {
     "data": {
      "text/plain": [
       "{1, 2, 3, 4, 96, 97, 98, 99, 100}"
      ]
     },
     "execution_count": 37,
     "metadata": {},
     "output_type": "execute_result"
    }
   ],
   "source": [
    "print(set_3)\n",
    "set_3 |= set_4\n",
    "set_3\n"
   ]
  },
  {
   "cell_type": "markdown",
   "id": "d322a55e",
   "metadata": {},
   "source": [
    "### 4- Set opeations\n",
    "\n",
    "we get all the mathematical operations of sets in python datatype of set:  \n",
    "- Union union() and |\n",
    "- Intersection intersection() and &\n",
    "- difference difference and -\n",
    "- symmetric difference symmetric_difference() - ^ (Returns all elements that exists in one set or another but not in both).\n",
    "- isdisjoint- \" it is a boolean function that returns True if There is no element in common in both sets\n",
    "- issubset- \"<=\" it is also a boolean function that returns true if all elemets of set1 exists in set 2 - set x is considered subset of itself\n",
    "- issuperset \">=\" it is also a boolean function, A set x1 is considered a superset of another set x2 if x1 contains every element of x2- set x is also it's super set\n"
   ]
  },
  {
   "cell_type": "code",
   "execution_count": 10,
   "id": "f236f366",
   "metadata": {},
   "outputs": [
    {
     "data": {
      "text/plain": [
       "{1, 2, 3, 4, 96, 97, 98, 99, 100}"
      ]
     },
     "execution_count": 10,
     "metadata": {},
     "output_type": "execute_result"
    }
   ],
   "source": [
    "# SET UNION - METHOD 1\n",
    "set_union = set_3.union(set_4)\n",
    "\n",
    "set_union"
   ]
  },
  {
   "cell_type": "code",
   "execution_count": 12,
   "id": "03db9e36",
   "metadata": {},
   "outputs": [
    {
     "data": {
      "text/plain": [
       "{1, 2, 3, 4, 96, 97, 98, 99, 100}"
      ]
     },
     "execution_count": 12,
     "metadata": {},
     "output_type": "execute_result"
    }
   ],
   "source": [
    "# SET UNION & - METHOD 2\n",
    "\n",
    "set_union = set_3 | set_4\n",
    "\n",
    "set_union"
   ]
  },
  {
   "cell_type": "code",
   "execution_count": 13,
   "id": "7c11a95e",
   "metadata": {},
   "outputs": [
    {
     "data": {
      "text/plain": [
       "{1, 2, 3, 4, 99}"
      ]
     },
     "execution_count": 13,
     "metadata": {},
     "output_type": "execute_result"
    }
   ],
   "source": [
    "# SET INTERSECTION - METHOD 1\n",
    "set_intersection = set_3.intersection(set_4)\n",
    "\n",
    "set_intersection"
   ]
  },
  {
   "cell_type": "code",
   "execution_count": 17,
   "id": "eb50bd86",
   "metadata": {},
   "outputs": [
    {
     "data": {
      "text/plain": [
       "{1, 2, 3, 4, 99}"
      ]
     },
     "execution_count": 17,
     "metadata": {},
     "output_type": "execute_result"
    }
   ],
   "source": [
    "# SET INTERSECTION - METHOD 2\n",
    "set_intersection = set_3 & set_4\n",
    "\n",
    "set_intersection\n",
    "# print(set_3, set_4)"
   ]
  },
  {
   "cell_type": "code",
   "execution_count": 18,
   "id": "355f9f9d",
   "metadata": {},
   "outputs": [
    {
     "data": {
      "text/plain": [
       "{96, 97, 98, 100}"
      ]
     },
     "execution_count": 18,
     "metadata": {},
     "output_type": "execute_result"
    }
   ],
   "source": [
    "# SET DIFFERENCE - METHOD 1\n",
    "\n",
    "set_difference = set_4.difference(set_3)\n",
    "\n",
    "set_difference"
   ]
  },
  {
   "cell_type": "code",
   "execution_count": 19,
   "id": "6471957e",
   "metadata": {},
   "outputs": [
    {
     "data": {
      "text/plain": [
       "{96, 97, 98, 100}"
      ]
     },
     "execution_count": 19,
     "metadata": {},
     "output_type": "execute_result"
    }
   ],
   "source": [
    "# SET DIFFERENCE - METHOD 2\n",
    "\n",
    "set_difference = set_4 - set_3\n",
    "\n",
    "set_difference"
   ]
  },
  {
   "cell_type": "code",
   "execution_count": 21,
   "id": "a54f24e6",
   "metadata": {},
   "outputs": [
    {
     "data": {
      "text/plain": [
       "{96, 97, 98, 100}"
      ]
     },
     "execution_count": 21,
     "metadata": {},
     "output_type": "execute_result"
    }
   ],
   "source": [
    "#  SET SYMMETRIC DIFFERENCE - METHOD 1\n",
    "# x1.symmetric_difference(x2) and x1 ^ x2 return the set of all elements in either x1 or x2, but not both\n",
    "\n",
    "set_symmetric_difference = set_3.symmetric_difference(set_4)\n",
    "\n",
    "set_symmetric_difference"
   ]
  },
  {
   "cell_type": "code",
   "execution_count": 22,
   "id": "2ed11d2a",
   "metadata": {},
   "outputs": [
    {
     "data": {
      "text/plain": [
       "{96, 97, 98, 100}"
      ]
     },
     "execution_count": 22,
     "metadata": {},
     "output_type": "execute_result"
    }
   ],
   "source": [
    "#  SET SYMMETRIC DIFFERENCE - METHOD 2\n",
    "# x1.symmetric_difference(x2) and x1 ^ x2 return the set of all elements in either x1 or x2, but not both\n",
    "\n",
    "set_symmetric_difference = set_3 ^ set_4\n",
    "\n",
    "set_symmetric_difference"
   ]
  },
  {
   "cell_type": "code",
   "execution_count": 24,
   "id": "485cbe87",
   "metadata": {},
   "outputs": [
    {
     "data": {
      "text/plain": [
       "False"
      ]
     },
     "execution_count": 24,
     "metadata": {},
     "output_type": "execute_result"
    }
   ],
   "source": [
    "# SET ISDISJOINT:\n",
    "\n",
    "set_isdisjoint = set_3.isdisjoint(set_4)\n",
    "set_isdisjoint\n",
    "\n",
    "# If isDisjoint is True means there are no common element in both sets, then their intersection will results in empty set"
   ]
  },
  {
   "cell_type": "code",
   "execution_count": 25,
   "id": "b3bb43c6",
   "metadata": {},
   "outputs": [
    {
     "data": {
      "text/plain": [
       "True"
      ]
     },
     "execution_count": 25,
     "metadata": {},
     "output_type": "execute_result"
    }
   ],
   "source": [
    "# SET ISSUBSET - METHOD 1\n",
    "\n",
    "set_issubset = set_3.issubset(set_4)\n",
    "set_issubset"
   ]
  },
  {
   "cell_type": "code",
   "execution_count": 26,
   "id": "1bc1ea3f",
   "metadata": {},
   "outputs": [
    {
     "data": {
      "text/plain": [
       "True"
      ]
     },
     "execution_count": 26,
     "metadata": {},
     "output_type": "execute_result"
    }
   ],
   "source": [
    "# SET ISSUBSET - METHOD 2\n",
    "\n",
    "set_issubset = set_3 <= set_4\n",
    "set_issubset"
   ]
  },
  {
   "cell_type": "code",
   "execution_count": 27,
   "id": "a99cf8ba",
   "metadata": {},
   "outputs": [
    {
     "data": {
      "text/plain": [
       "False"
      ]
     },
     "execution_count": 27,
     "metadata": {},
     "output_type": "execute_result"
    }
   ],
   "source": [
    "# SET SUPERSET - METHOD 1\n",
    "\n",
    "set_superset = set_3.issuperset(set_4)\n",
    "set_superset"
   ]
  },
  {
   "cell_type": "code",
   "execution_count": 28,
   "id": "9c75a618",
   "metadata": {},
   "outputs": [
    {
     "data": {
      "text/plain": [
       "False"
      ]
     },
     "execution_count": 28,
     "metadata": {},
     "output_type": "execute_result"
    }
   ],
   "source": [
    "# SET SUPERSET - METHOD 2\n",
    "\n",
    "set_superset = set_3 >= set_4\n",
    "set_superset"
   ]
  },
  {
   "cell_type": "code",
   "execution_count": null,
   "id": "54607cec",
   "metadata": {},
   "outputs": [],
   "source": [
    "# PROPER SET"
   ]
  },
  {
   "cell_type": "markdown",
   "id": "c9123d0c",
   "metadata": {},
   "source": [
    "### 5- Removing value from set  \n",
    "- remove()\n",
    "- discard()\n",
    "- pop()\n",
    "- clear()\n"
   ]
  },
  {
   "cell_type": "code",
   "execution_count": 41,
   "id": "104e1d9c",
   "metadata": {},
   "outputs": [
    {
     "data": {
      "text/plain": [
       "{1, 2, 4, 96, 97, 98, 99, 100}"
      ]
     },
     "execution_count": 41,
     "metadata": {},
     "output_type": "execute_result"
    }
   ],
   "source": [
    "# REMOVE \n",
    "set_3.remove(3)\n",
    "\n",
    "set_3"
   ]
  },
  {
   "cell_type": "code",
   "execution_count": 43,
   "id": "95604708",
   "metadata": {
    "scrolled": true
   },
   "outputs": [
    {
     "ename": "TypeError",
     "evalue": "set.remove() takes exactly one argument (0 given)",
     "output_type": "error",
     "traceback": [
      "\u001b[1;31m---------------------------------------------------------------------------\u001b[0m",
      "\u001b[1;31mTypeError\u001b[0m                                 Traceback (most recent call last)",
      "\u001b[1;32m~\\AppData\\Local\\Temp\\ipykernel_11460\\2217470742.py\u001b[0m in \u001b[0;36m<module>\u001b[1;34m\u001b[0m\n\u001b[1;32m----> 1\u001b[1;33m \u001b[0mset_3\u001b[0m\u001b[1;33m.\u001b[0m\u001b[0mremove\u001b[0m\u001b[1;33m(\u001b[0m\u001b[1;33m)\u001b[0m\u001b[1;33m\u001b[0m\u001b[1;33m\u001b[0m\u001b[0m\n\u001b[0m",
      "\u001b[1;31mTypeError\u001b[0m: set.remove() takes exactly one argument (0 given)"
     ]
    }
   ],
   "source": [
    "set_3.remove()"
   ]
  },
  {
   "cell_type": "code",
   "execution_count": 45,
   "id": "5d1b2bcb",
   "metadata": {},
   "outputs": [
    {
     "data": {
      "text/plain": [
       "{1, 2, 4, 96, 97, 98, 99, 100}"
      ]
     },
     "execution_count": 45,
     "metadata": {},
     "output_type": "execute_result"
    }
   ],
   "source": [
    "# DISCARD \n",
    "set_3.discard(3)\n",
    "\n",
    "set_3"
   ]
  },
  {
   "cell_type": "code",
   "execution_count": 46,
   "id": "072b399b",
   "metadata": {},
   "outputs": [
    {
     "data": {
      "text/plain": [
       "{1, 2, 4, 97, 98, 99, 100}"
      ]
     },
     "execution_count": 46,
     "metadata": {},
     "output_type": "execute_result"
    }
   ],
   "source": [
    "set_3.pop()\n",
    "\n",
    "set_3 "
   ]
  },
  {
   "cell_type": "code",
   "execution_count": 48,
   "id": "9f137ebb",
   "metadata": {},
   "outputs": [],
   "source": [
    "set_3.clear()"
   ]
  },
  {
   "cell_type": "markdown",
   "id": "3721afa2",
   "metadata": {},
   "source": [
    "### 6- Loops on set"
   ]
  },
  {
   "cell_type": "code",
   "execution_count": 117,
   "id": "03a6d574",
   "metadata": {},
   "outputs": [
    {
     "name": "stdout",
     "output_type": "stream",
     "text": [
      "1\n",
      "2\n",
      "3\n",
      "OK\n"
     ]
    }
   ],
   "source": [
    "for i in set_1:\n",
    "    print(i)"
   ]
  },
  {
   "cell_type": "code",
   "execution_count": null,
   "id": "71888821",
   "metadata": {},
   "outputs": [],
   "source": []
  },
  {
   "cell_type": "markdown",
   "id": "efd4ffd9",
   "metadata": {},
   "source": [
    "# Frozen Sets"
   ]
  },
  {
   "cell_type": "code",
   "execution_count": 49,
   "id": "737ce418",
   "metadata": {},
   "outputs": [],
   "source": [
    "# which is in all respects exactly like a set, except that a frozenset is immutable. You can perform non-modifying operations on a frozenset:\n",
    "# Creations \n",
    "\n",
    "frozenSet = frozenset({1,2,3,4})\n",
    "frozenSet = frozenset([1,2,3,4])\n",
    "frozenSet = frozenset((1,2,3,4))\n"
   ]
  },
  {
   "cell_type": "code",
   "execution_count": null,
   "id": "486d00c5",
   "metadata": {},
   "outputs": [],
   "source": []
  },
  {
   "cell_type": "code",
   "execution_count": null,
   "id": "f54c1c10",
   "metadata": {},
   "outputs": [],
   "source": []
  },
  {
   "cell_type": "code",
   "execution_count": null,
   "id": "335e3ede",
   "metadata": {},
   "outputs": [],
   "source": []
  },
  {
   "cell_type": "code",
   "execution_count": null,
   "id": "d6fddde5",
   "metadata": {},
   "outputs": [],
   "source": []
  },
  {
   "cell_type": "code",
   "execution_count": null,
   "id": "e030f28a",
   "metadata": {},
   "outputs": [],
   "source": []
  },
  {
   "cell_type": "code",
   "execution_count": null,
   "id": "2f192305",
   "metadata": {},
   "outputs": [],
   "source": []
  },
  {
   "cell_type": "code",
   "execution_count": null,
   "id": "3477092e",
   "metadata": {},
   "outputs": [],
   "source": []
  },
  {
   "cell_type": "code",
   "execution_count": null,
   "id": "8d2fb50d",
   "metadata": {},
   "outputs": [],
   "source": []
  },
  {
   "cell_type": "code",
   "execution_count": null,
   "id": "59e679ac",
   "metadata": {},
   "outputs": [],
   "source": []
  },
  {
   "cell_type": "code",
   "execution_count": null,
   "id": "db0c20b8",
   "metadata": {},
   "outputs": [],
   "source": []
  },
  {
   "cell_type": "code",
   "execution_count": null,
   "id": "f692884c",
   "metadata": {},
   "outputs": [],
   "source": []
  },
  {
   "cell_type": "code",
   "execution_count": null,
   "id": "7e7b2e96",
   "metadata": {},
   "outputs": [],
   "source": []
  },
  {
   "cell_type": "code",
   "execution_count": null,
   "id": "1b982bf3",
   "metadata": {},
   "outputs": [],
   "source": []
  },
  {
   "cell_type": "code",
   "execution_count": null,
   "id": "bc120833",
   "metadata": {},
   "outputs": [],
   "source": []
  },
  {
   "cell_type": "code",
   "execution_count": null,
   "id": "acf13829",
   "metadata": {},
   "outputs": [],
   "source": []
  },
  {
   "cell_type": "code",
   "execution_count": null,
   "id": "5f02bdb1",
   "metadata": {},
   "outputs": [],
   "source": []
  },
  {
   "cell_type": "code",
   "execution_count": null,
   "id": "aab34f25",
   "metadata": {},
   "outputs": [],
   "source": []
  },
  {
   "cell_type": "code",
   "execution_count": null,
   "id": "30d7ccad",
   "metadata": {},
   "outputs": [],
   "source": []
  },
  {
   "cell_type": "code",
   "execution_count": null,
   "id": "792d7231",
   "metadata": {},
   "outputs": [],
   "source": []
  },
  {
   "cell_type": "code",
   "execution_count": 2,
   "id": "f5ceb130",
   "metadata": {},
   "outputs": [
    {
     "name": "stdout",
     "output_type": "stream",
     "text": [
      "dr\n"
     ]
    },
    {
     "ename": "ReadError",
     "evalue": "not an lzma file",
     "output_type": "error",
     "traceback": [
      "\u001b[1;31m---------------------------------------------------------------------------\u001b[0m",
      "\u001b[1;31mLZMAError\u001b[0m                                 Traceback (most recent call last)",
      "\u001b[1;32m~\\anaconda3\\lib\\tarfile.py\u001b[0m in \u001b[0;36mxzopen\u001b[1;34m(cls, name, mode, fileobj, preset, **kwargs)\u001b[0m\n\u001b[0;32m   1746\u001b[0m         \u001b[1;32mtry\u001b[0m\u001b[1;33m:\u001b[0m\u001b[1;33m\u001b[0m\u001b[1;33m\u001b[0m\u001b[0m\n\u001b[1;32m-> 1747\u001b[1;33m             \u001b[0mt\u001b[0m \u001b[1;33m=\u001b[0m \u001b[0mcls\u001b[0m\u001b[1;33m.\u001b[0m\u001b[0mtaropen\u001b[0m\u001b[1;33m(\u001b[0m\u001b[0mname\u001b[0m\u001b[1;33m,\u001b[0m \u001b[0mmode\u001b[0m\u001b[1;33m,\u001b[0m \u001b[0mfileobj\u001b[0m\u001b[1;33m,\u001b[0m \u001b[1;33m**\u001b[0m\u001b[0mkwargs\u001b[0m\u001b[1;33m)\u001b[0m\u001b[1;33m\u001b[0m\u001b[1;33m\u001b[0m\u001b[0m\n\u001b[0m\u001b[0;32m   1748\u001b[0m         \u001b[1;32mexcept\u001b[0m \u001b[1;33m(\u001b[0m\u001b[0mLZMAError\u001b[0m\u001b[1;33m,\u001b[0m \u001b[0mEOFError\u001b[0m\u001b[1;33m)\u001b[0m\u001b[1;33m:\u001b[0m\u001b[1;33m\u001b[0m\u001b[1;33m\u001b[0m\u001b[0m\n",
      "\u001b[1;32m~\\anaconda3\\lib\\tarfile.py\u001b[0m in \u001b[0;36mtaropen\u001b[1;34m(cls, name, mode, fileobj, **kwargs)\u001b[0m\n\u001b[0;32m   1667\u001b[0m             \u001b[1;32mraise\u001b[0m \u001b[0mValueError\u001b[0m\u001b[1;33m(\u001b[0m\u001b[1;34m\"mode must be 'r', 'a', 'w' or 'x'\"\u001b[0m\u001b[1;33m)\u001b[0m\u001b[1;33m\u001b[0m\u001b[1;33m\u001b[0m\u001b[0m\n\u001b[1;32m-> 1668\u001b[1;33m         \u001b[1;32mreturn\u001b[0m \u001b[0mcls\u001b[0m\u001b[1;33m(\u001b[0m\u001b[0mname\u001b[0m\u001b[1;33m,\u001b[0m \u001b[0mmode\u001b[0m\u001b[1;33m,\u001b[0m \u001b[0mfileobj\u001b[0m\u001b[1;33m,\u001b[0m \u001b[1;33m**\u001b[0m\u001b[0mkwargs\u001b[0m\u001b[1;33m)\u001b[0m\u001b[1;33m\u001b[0m\u001b[1;33m\u001b[0m\u001b[0m\n\u001b[0m\u001b[0;32m   1669\u001b[0m \u001b[1;33m\u001b[0m\u001b[0m\n",
      "\u001b[1;32m~\\anaconda3\\lib\\tarfile.py\u001b[0m in \u001b[0;36m__init__\u001b[1;34m(self, name, mode, fileobj, format, tarinfo, dereference, ignore_zeros, encoding, errors, pax_headers, debug, errorlevel, copybufsize)\u001b[0m\n\u001b[0;32m   1530\u001b[0m                 \u001b[0mself\u001b[0m\u001b[1;33m.\u001b[0m\u001b[0mfirstmember\u001b[0m \u001b[1;33m=\u001b[0m \u001b[1;32mNone\u001b[0m\u001b[1;33m\u001b[0m\u001b[1;33m\u001b[0m\u001b[0m\n\u001b[1;32m-> 1531\u001b[1;33m                 \u001b[0mself\u001b[0m\u001b[1;33m.\u001b[0m\u001b[0mfirstmember\u001b[0m \u001b[1;33m=\u001b[0m \u001b[0mself\u001b[0m\u001b[1;33m.\u001b[0m\u001b[0mnext\u001b[0m\u001b[1;33m(\u001b[0m\u001b[1;33m)\u001b[0m\u001b[1;33m\u001b[0m\u001b[1;33m\u001b[0m\u001b[0m\n\u001b[0m\u001b[0;32m   1532\u001b[0m \u001b[1;33m\u001b[0m\u001b[0m\n",
      "\u001b[1;32m~\\anaconda3\\lib\\tarfile.py\u001b[0m in \u001b[0;36mnext\u001b[1;34m(self)\u001b[0m\n\u001b[0;32m   2362\u001b[0m                     \u001b[1;32melse\u001b[0m\u001b[1;33m:\u001b[0m\u001b[1;33m\u001b[0m\u001b[1;33m\u001b[0m\u001b[0m\n\u001b[1;32m-> 2363\u001b[1;33m                         \u001b[1;32mraise\u001b[0m \u001b[0me\u001b[0m\u001b[1;33m\u001b[0m\u001b[1;33m\u001b[0m\u001b[0m\n\u001b[0m\u001b[0;32m   2364\u001b[0m                 \u001b[1;32mexcept\u001b[0m \u001b[0mImportError\u001b[0m\u001b[1;33m:\u001b[0m\u001b[1;33m\u001b[0m\u001b[1;33m\u001b[0m\u001b[0m\n",
      "\u001b[1;32m~\\anaconda3\\lib\\tarfile.py\u001b[0m in \u001b[0;36mnext\u001b[1;34m(self)\u001b[0m\n\u001b[0;32m   2335\u001b[0m             \u001b[1;32mtry\u001b[0m\u001b[1;33m:\u001b[0m\u001b[1;33m\u001b[0m\u001b[1;33m\u001b[0m\u001b[0m\n\u001b[1;32m-> 2336\u001b[1;33m                 \u001b[0mtarinfo\u001b[0m \u001b[1;33m=\u001b[0m \u001b[0mself\u001b[0m\u001b[1;33m.\u001b[0m\u001b[0mtarinfo\u001b[0m\u001b[1;33m.\u001b[0m\u001b[0mfromtarfile\u001b[0m\u001b[1;33m(\u001b[0m\u001b[0mself\u001b[0m\u001b[1;33m)\u001b[0m\u001b[1;33m\u001b[0m\u001b[1;33m\u001b[0m\u001b[0m\n\u001b[0m\u001b[0;32m   2337\u001b[0m             \u001b[1;32mexcept\u001b[0m \u001b[0mEOFHeaderError\u001b[0m \u001b[1;32mas\u001b[0m \u001b[0me\u001b[0m\u001b[1;33m:\u001b[0m\u001b[1;33m\u001b[0m\u001b[1;33m\u001b[0m\u001b[0m\n",
      "\u001b[1;32m~\\anaconda3\\lib\\tarfile.py\u001b[0m in \u001b[0;36mfromtarfile\u001b[1;34m(cls, tarfile)\u001b[0m\n\u001b[0;32m   1120\u001b[0m         \"\"\"\n\u001b[1;32m-> 1121\u001b[1;33m         \u001b[0mbuf\u001b[0m \u001b[1;33m=\u001b[0m \u001b[0mtarfile\u001b[0m\u001b[1;33m.\u001b[0m\u001b[0mfileobj\u001b[0m\u001b[1;33m.\u001b[0m\u001b[0mread\u001b[0m\u001b[1;33m(\u001b[0m\u001b[0mBLOCKSIZE\u001b[0m\u001b[1;33m)\u001b[0m\u001b[1;33m\u001b[0m\u001b[1;33m\u001b[0m\u001b[0m\n\u001b[0m\u001b[0;32m   1122\u001b[0m         \u001b[0mobj\u001b[0m \u001b[1;33m=\u001b[0m \u001b[0mcls\u001b[0m\u001b[1;33m.\u001b[0m\u001b[0mfrombuf\u001b[0m\u001b[1;33m(\u001b[0m\u001b[0mbuf\u001b[0m\u001b[1;33m,\u001b[0m \u001b[0mtarfile\u001b[0m\u001b[1;33m.\u001b[0m\u001b[0mencoding\u001b[0m\u001b[1;33m,\u001b[0m \u001b[0mtarfile\u001b[0m\u001b[1;33m.\u001b[0m\u001b[0merrors\u001b[0m\u001b[1;33m)\u001b[0m\u001b[1;33m\u001b[0m\u001b[1;33m\u001b[0m\u001b[0m\n",
      "\u001b[1;32m~\\anaconda3\\lib\\lzma.py\u001b[0m in \u001b[0;36mread\u001b[1;34m(self, size)\u001b[0m\n\u001b[0;32m    199\u001b[0m         \u001b[0mself\u001b[0m\u001b[1;33m.\u001b[0m\u001b[0m_check_can_read\u001b[0m\u001b[1;33m(\u001b[0m\u001b[1;33m)\u001b[0m\u001b[1;33m\u001b[0m\u001b[1;33m\u001b[0m\u001b[0m\n\u001b[1;32m--> 200\u001b[1;33m         \u001b[1;32mreturn\u001b[0m \u001b[0mself\u001b[0m\u001b[1;33m.\u001b[0m\u001b[0m_buffer\u001b[0m\u001b[1;33m.\u001b[0m\u001b[0mread\u001b[0m\u001b[1;33m(\u001b[0m\u001b[0msize\u001b[0m\u001b[1;33m)\u001b[0m\u001b[1;33m\u001b[0m\u001b[1;33m\u001b[0m\u001b[0m\n\u001b[0m\u001b[0;32m    201\u001b[0m \u001b[1;33m\u001b[0m\u001b[0m\n",
      "\u001b[1;32m~\\anaconda3\\lib\\_compression.py\u001b[0m in \u001b[0;36mreadinto\u001b[1;34m(self, b)\u001b[0m\n\u001b[0;32m     67\u001b[0m         \u001b[1;32mwith\u001b[0m \u001b[0mmemoryview\u001b[0m\u001b[1;33m(\u001b[0m\u001b[0mb\u001b[0m\u001b[1;33m)\u001b[0m \u001b[1;32mas\u001b[0m \u001b[0mview\u001b[0m\u001b[1;33m,\u001b[0m \u001b[0mview\u001b[0m\u001b[1;33m.\u001b[0m\u001b[0mcast\u001b[0m\u001b[1;33m(\u001b[0m\u001b[1;34m\"B\"\u001b[0m\u001b[1;33m)\u001b[0m \u001b[1;32mas\u001b[0m \u001b[0mbyte_view\u001b[0m\u001b[1;33m:\u001b[0m\u001b[1;33m\u001b[0m\u001b[1;33m\u001b[0m\u001b[0m\n\u001b[1;32m---> 68\u001b[1;33m             \u001b[0mdata\u001b[0m \u001b[1;33m=\u001b[0m \u001b[0mself\u001b[0m\u001b[1;33m.\u001b[0m\u001b[0mread\u001b[0m\u001b[1;33m(\u001b[0m\u001b[0mlen\u001b[0m\u001b[1;33m(\u001b[0m\u001b[0mbyte_view\u001b[0m\u001b[1;33m)\u001b[0m\u001b[1;33m)\u001b[0m\u001b[1;33m\u001b[0m\u001b[1;33m\u001b[0m\u001b[0m\n\u001b[0m\u001b[0;32m     69\u001b[0m             \u001b[0mbyte_view\u001b[0m\u001b[1;33m[\u001b[0m\u001b[1;33m:\u001b[0m\u001b[0mlen\u001b[0m\u001b[1;33m(\u001b[0m\u001b[0mdata\u001b[0m\u001b[1;33m)\u001b[0m\u001b[1;33m]\u001b[0m \u001b[1;33m=\u001b[0m \u001b[0mdata\u001b[0m\u001b[1;33m\u001b[0m\u001b[1;33m\u001b[0m\u001b[0m\n",
      "\u001b[1;32m~\\anaconda3\\lib\\_compression.py\u001b[0m in \u001b[0;36mread\u001b[1;34m(self, size)\u001b[0m\n\u001b[0;32m    102\u001b[0m                     \u001b[0mrawblock\u001b[0m \u001b[1;33m=\u001b[0m \u001b[1;34mb\"\"\u001b[0m\u001b[1;33m\u001b[0m\u001b[1;33m\u001b[0m\u001b[0m\n\u001b[1;32m--> 103\u001b[1;33m                 \u001b[0mdata\u001b[0m \u001b[1;33m=\u001b[0m \u001b[0mself\u001b[0m\u001b[1;33m.\u001b[0m\u001b[0m_decompressor\u001b[0m\u001b[1;33m.\u001b[0m\u001b[0mdecompress\u001b[0m\u001b[1;33m(\u001b[0m\u001b[0mrawblock\u001b[0m\u001b[1;33m,\u001b[0m \u001b[0msize\u001b[0m\u001b[1;33m)\u001b[0m\u001b[1;33m\u001b[0m\u001b[1;33m\u001b[0m\u001b[0m\n\u001b[0m\u001b[0;32m    104\u001b[0m             \u001b[1;32mif\u001b[0m \u001b[0mdata\u001b[0m\u001b[1;33m:\u001b[0m\u001b[1;33m\u001b[0m\u001b[1;33m\u001b[0m\u001b[0m\n",
      "\u001b[1;31mLZMAError\u001b[0m: Input format not supported by decoder",
      "\nDuring handling of the above exception, another exception occurred:\n",
      "\u001b[1;31mReadError\u001b[0m                                 Traceback (most recent call last)",
      "\u001b[1;32m~\\AppData\\Local\\Temp\\ipykernel_11460\\1501593978.py\u001b[0m in \u001b[0;36m<module>\u001b[1;34m\u001b[0m\n\u001b[0;32m     19\u001b[0m \u001b[0murllib\u001b[0m\u001b[1;33m.\u001b[0m\u001b[0mrequest\u001b[0m\u001b[1;33m.\u001b[0m\u001b[0murlretrieve\u001b[0m\u001b[1;33m(\u001b[0m\u001b[0mblender_url\u001b[0m\u001b[1;33m,\u001b[0m \u001b[0mblender_filename\u001b[0m\u001b[1;33m)\u001b[0m\u001b[1;33m\u001b[0m\u001b[1;33m\u001b[0m\u001b[0m\n\u001b[0;32m     20\u001b[0m \u001b[1;33m\u001b[0m\u001b[0m\n\u001b[1;32m---> 21\u001b[1;33m \u001b[1;32mwith\u001b[0m \u001b[0mtarfile\u001b[0m\u001b[1;33m.\u001b[0m\u001b[0mopen\u001b[0m\u001b[1;33m(\u001b[0m\u001b[0mblender_filename\u001b[0m\u001b[1;33m,\u001b[0m \u001b[1;34m'r:xz'\u001b[0m\u001b[1;33m)\u001b[0m \u001b[1;32mas\u001b[0m \u001b[0mtar\u001b[0m\u001b[1;33m:\u001b[0m\u001b[1;33m\u001b[0m\u001b[1;33m\u001b[0m\u001b[0m\n\u001b[0m\u001b[0;32m     22\u001b[0m     \u001b[0mtar\u001b[0m\u001b[1;33m.\u001b[0m\u001b[0mextractall\u001b[0m\u001b[1;33m(\u001b[0m\u001b[0mblender_version\u001b[0m\u001b[1;33m)\u001b[0m\u001b[1;33m\u001b[0m\u001b[1;33m\u001b[0m\u001b[0m\n\u001b[0;32m     23\u001b[0m \u001b[1;33m\u001b[0m\u001b[0m\n",
      "\u001b[1;32m~\\anaconda3\\lib\\tarfile.py\u001b[0m in \u001b[0;36mopen\u001b[1;34m(cls, name, mode, fileobj, bufsize, **kwargs)\u001b[0m\n\u001b[0;32m   1636\u001b[0m             \u001b[1;32melse\u001b[0m\u001b[1;33m:\u001b[0m\u001b[1;33m\u001b[0m\u001b[1;33m\u001b[0m\u001b[0m\n\u001b[0;32m   1637\u001b[0m                 \u001b[1;32mraise\u001b[0m \u001b[0mCompressionError\u001b[0m\u001b[1;33m(\u001b[0m\u001b[1;34m\"unknown compression type %r\"\u001b[0m \u001b[1;33m%\u001b[0m \u001b[0mcomptype\u001b[0m\u001b[1;33m)\u001b[0m\u001b[1;33m\u001b[0m\u001b[1;33m\u001b[0m\u001b[0m\n\u001b[1;32m-> 1638\u001b[1;33m             \u001b[1;32mreturn\u001b[0m \u001b[0mfunc\u001b[0m\u001b[1;33m(\u001b[0m\u001b[0mname\u001b[0m\u001b[1;33m,\u001b[0m \u001b[0mfilemode\u001b[0m\u001b[1;33m,\u001b[0m \u001b[0mfileobj\u001b[0m\u001b[1;33m,\u001b[0m \u001b[1;33m**\u001b[0m\u001b[0mkwargs\u001b[0m\u001b[1;33m)\u001b[0m\u001b[1;33m\u001b[0m\u001b[1;33m\u001b[0m\u001b[0m\n\u001b[0m\u001b[0;32m   1639\u001b[0m \u001b[1;33m\u001b[0m\u001b[0m\n\u001b[0;32m   1640\u001b[0m         \u001b[1;32melif\u001b[0m \u001b[1;34m\"|\"\u001b[0m \u001b[1;32min\u001b[0m \u001b[0mmode\u001b[0m\u001b[1;33m:\u001b[0m\u001b[1;33m\u001b[0m\u001b[1;33m\u001b[0m\u001b[0m\n",
      "\u001b[1;32m~\\anaconda3\\lib\\tarfile.py\u001b[0m in \u001b[0;36mxzopen\u001b[1;34m(cls, name, mode, fileobj, preset, **kwargs)\u001b[0m\n\u001b[0;32m   1749\u001b[0m             \u001b[0mfileobj\u001b[0m\u001b[1;33m.\u001b[0m\u001b[0mclose\u001b[0m\u001b[1;33m(\u001b[0m\u001b[1;33m)\u001b[0m\u001b[1;33m\u001b[0m\u001b[1;33m\u001b[0m\u001b[0m\n\u001b[0;32m   1750\u001b[0m             \u001b[1;32mif\u001b[0m \u001b[0mmode\u001b[0m \u001b[1;33m==\u001b[0m \u001b[1;34m'r'\u001b[0m\u001b[1;33m:\u001b[0m\u001b[1;33m\u001b[0m\u001b[1;33m\u001b[0m\u001b[0m\n\u001b[1;32m-> 1751\u001b[1;33m                 \u001b[1;32mraise\u001b[0m \u001b[0mReadError\u001b[0m\u001b[1;33m(\u001b[0m\u001b[1;34m\"not an lzma file\"\u001b[0m\u001b[1;33m)\u001b[0m\u001b[1;33m\u001b[0m\u001b[1;33m\u001b[0m\u001b[0m\n\u001b[0m\u001b[0;32m   1752\u001b[0m             \u001b[1;32mraise\u001b[0m\u001b[1;33m\u001b[0m\u001b[1;33m\u001b[0m\u001b[0m\n\u001b[0;32m   1753\u001b[0m         \u001b[1;32mexcept\u001b[0m\u001b[1;33m:\u001b[0m\u001b[1;33m\u001b[0m\u001b[1;33m\u001b[0m\u001b[0m\n",
      "\u001b[1;31mReadError\u001b[0m: not an lzma file"
     ]
    }
   ],
   "source": [
    "import os\n",
    "import urllib.request\n",
    "import tarfile\n",
    "\n",
    "# Downloading weights\n",
    "weights_url = r'https://drive.google.com/uc?id=1gRB7ez1e4H7a9Y09lLqRuna0luZO5VRK'\n",
    "weights_filename = os.path.basename(weights_url[0:10])\n",
    "print(weights_filename)\n",
    "urllib.request.urlretrieve(weights_url, weights_filename)\n",
    "\n",
    "# # Downloading Blender\n",
    "blender_url = r'https://ftp.nluug.nl/pub/graphics/blender/release/Blender2.93/blender-2.93.1-windows-x64.zip'\n",
    "blender_filename = os.path.basename(blender_url)\n",
    "blender_version = 'blender-2.93.1-windows-x64'  # Change to the desired folder name\n",
    "\n",
    "if not os.path.exists(blender_version):\n",
    "    os.mkdir(blender_version)\n",
    "\n",
    "urllib.request.urlretrieve(blender_url, blender_filename)\n",
    "\n",
    "with tarfile.open(blender_filename, 'r:xz') as tar:\n",
    "    tar.extractall(blender_version)\n",
    "\n",
    "os.remove(blender_filename)\n"
   ]
  },
  {
   "cell_type": "code",
   "execution_count": null,
   "id": "4bc09e30",
   "metadata": {},
   "outputs": [],
   "source": []
  }
 ],
 "metadata": {
  "kernelspec": {
   "display_name": "Python 3 (ipykernel)",
   "language": "python",
   "name": "python3"
  },
  "language_info": {
   "codemirror_mode": {
    "name": "ipython",
    "version": 3
   },
   "file_extension": ".py",
   "mimetype": "text/x-python",
   "name": "python",
   "nbconvert_exporter": "python",
   "pygments_lexer": "ipython3",
   "version": "3.9.13"
  }
 },
 "nbformat": 4,
 "nbformat_minor": 5
}
